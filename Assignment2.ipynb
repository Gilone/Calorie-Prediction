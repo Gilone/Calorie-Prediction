{
 "cells": [
  {
   "cell_type": "code",
   "execution_count": 26,
   "id": "b7b10633",
   "metadata": {},
   "outputs": [],
   "source": [
    "from collections import defaultdict\n",
    "from sklearn import linear_model\n",
    "import csv\n",
    "import random\n",
    "from tqdm import tqdm\n",
    "import xgboost as xgb\n",
    "from sklearn.metrics import precision_score,recall_score\n"
   ]
  },
  {
   "cell_type": "markdown",
   "id": "6a2804f7",
   "metadata": {},
   "source": [
    "## Data Process"
   ]
  },
  {
   "cell_type": "code",
   "execution_count": 2,
   "id": "f69f80db",
   "metadata": {},
   "outputs": [],
   "source": [
    "def readCSV(path):\n",
    "    f = open(path, 'rt')\n",
    "    c = csv.reader(f)\n",
    "    header = next(c)\n",
    "    for l in c:\n",
    "        d = dict(zip(header,l))\n",
    "        yield d"
   ]
  },
  {
   "cell_type": "code",
   "execution_count": 3,
   "id": "4221e619",
   "metadata": {},
   "outputs": [],
   "source": [
    "def get_feature(path):\n",
    "    recipe_dict = {}\n",
    "    for d in tqdm(readCSV(path)):\n",
    "        recipe_dict[d['id']]= d\n",
    "#         ,d['name_tokens'],d['ingredient_tokens'],d['steps_tokens'],d['techniques'],d['calorie_level'],d['ingredient_ids']\n",
    "#         recipe_count_dict[recipe] += 1\n",
    "#         user_recipe_dict[user].add(recipe)\n",
    "#         train_cooked += 1\n",
    "    return recipe_dict"
   ]
  },
  {
   "cell_type": "code",
   "execution_count": 4,
   "id": "eb4b1ad8",
   "metadata": {},
   "outputs": [
    {
     "name": "stderr",
     "output_type": "stream",
     "text": [
      "178265it [00:03, 45905.47it/s]\n"
     ]
    }
   ],
   "source": [
    "recipe_dict = get_feature(\"data/PP_recipes.csv\")"
   ]
  },
  {
   "cell_type": "code",
   "execution_count": 5,
   "id": "5f88c63d",
   "metadata": {},
   "outputs": [],
   "source": [
    "import pandas as pd\n",
    "import numpy as np\n",
    "import sklearn as sk\n",
    "from sklearn.linear_model import LogisticRegression\n",
    "from sklearn import svm\n",
    "from sklearn.ensemble import RandomForestClassifier\n",
    "from sklearn.neural_network import MLPClassifier\n",
    "\n",
    "r_recipes = pd.read_csv('data/RAW_recipes.csv')\n",
    "p_recipes = pd.read_csv('data/PP_recipes.csv')\n",
    "# test = pd.read_csv('data/interactions_test.csv')\n",
    "# train = pd.read_csv('data/interactions_train.csv')\n",
    "# validation = pd.read_csv('data/interactions_validation.csv')"
   ]
  },
  {
   "cell_type": "code",
   "execution_count": 6,
   "id": "732cd1a1",
   "metadata": {},
   "outputs": [
    {
     "data": {
      "text/html": [
       "<div>\n",
       "<style scoped>\n",
       "    .dataframe tbody tr th:only-of-type {\n",
       "        vertical-align: middle;\n",
       "    }\n",
       "\n",
       "    .dataframe tbody tr th {\n",
       "        vertical-align: top;\n",
       "    }\n",
       "\n",
       "    .dataframe thead th {\n",
       "        text-align: right;\n",
       "    }\n",
       "</style>\n",
       "<table border=\"1\" class=\"dataframe\">\n",
       "  <thead>\n",
       "    <tr style=\"text-align: right;\">\n",
       "      <th></th>\n",
       "      <th>name</th>\n",
       "      <th>id</th>\n",
       "      <th>minutes</th>\n",
       "      <th>contributor_id</th>\n",
       "      <th>submitted</th>\n",
       "      <th>tags</th>\n",
       "      <th>nutrition</th>\n",
       "      <th>n_steps</th>\n",
       "      <th>steps</th>\n",
       "      <th>description</th>\n",
       "      <th>ingredients</th>\n",
       "      <th>n_ingredients</th>\n",
       "    </tr>\n",
       "  </thead>\n",
       "  <tbody>\n",
       "    <tr>\n",
       "      <th>0</th>\n",
       "      <td>arriba   baked winter squash mexican style</td>\n",
       "      <td>137739</td>\n",
       "      <td>55</td>\n",
       "      <td>47892</td>\n",
       "      <td>2005-09-16</td>\n",
       "      <td>['60-minutes-or-less', 'time-to-make', 'course...</td>\n",
       "      <td>[51.5, 0.0, 13.0, 0.0, 2.0, 0.0, 4.0]</td>\n",
       "      <td>11</td>\n",
       "      <td>['make a choice and proceed with recipe', 'dep...</td>\n",
       "      <td>autumn is my favorite time of year to cook! th...</td>\n",
       "      <td>['winter squash', 'mexican seasoning', 'mixed ...</td>\n",
       "      <td>7</td>\n",
       "    </tr>\n",
       "    <tr>\n",
       "      <th>1</th>\n",
       "      <td>a bit different  breakfast pizza</td>\n",
       "      <td>31490</td>\n",
       "      <td>30</td>\n",
       "      <td>26278</td>\n",
       "      <td>2002-06-17</td>\n",
       "      <td>['30-minutes-or-less', 'time-to-make', 'course...</td>\n",
       "      <td>[173.4, 18.0, 0.0, 17.0, 22.0, 35.0, 1.0]</td>\n",
       "      <td>9</td>\n",
       "      <td>['preheat oven to 425 degrees f', 'press dough...</td>\n",
       "      <td>this recipe calls for the crust to be prebaked...</td>\n",
       "      <td>['prepared pizza crust', 'sausage patty', 'egg...</td>\n",
       "      <td>6</td>\n",
       "    </tr>\n",
       "    <tr>\n",
       "      <th>2</th>\n",
       "      <td>all in the kitchen  chili</td>\n",
       "      <td>112140</td>\n",
       "      <td>130</td>\n",
       "      <td>196586</td>\n",
       "      <td>2005-02-25</td>\n",
       "      <td>['time-to-make', 'course', 'preparation', 'mai...</td>\n",
       "      <td>[269.8, 22.0, 32.0, 48.0, 39.0, 27.0, 5.0]</td>\n",
       "      <td>6</td>\n",
       "      <td>['brown ground beef in large pot', 'add choppe...</td>\n",
       "      <td>this modified version of 'mom's' chili was a h...</td>\n",
       "      <td>['ground beef', 'yellow onions', 'diced tomato...</td>\n",
       "      <td>13</td>\n",
       "    </tr>\n",
       "    <tr>\n",
       "      <th>3</th>\n",
       "      <td>alouette  potatoes</td>\n",
       "      <td>59389</td>\n",
       "      <td>45</td>\n",
       "      <td>68585</td>\n",
       "      <td>2003-04-14</td>\n",
       "      <td>['60-minutes-or-less', 'time-to-make', 'course...</td>\n",
       "      <td>[368.1, 17.0, 10.0, 2.0, 14.0, 8.0, 20.0]</td>\n",
       "      <td>11</td>\n",
       "      <td>['place potatoes in a large pot of lightly sal...</td>\n",
       "      <td>this is a super easy, great tasting, make ahea...</td>\n",
       "      <td>['spreadable cheese with garlic and herbs', 'n...</td>\n",
       "      <td>11</td>\n",
       "    </tr>\n",
       "    <tr>\n",
       "      <th>4</th>\n",
       "      <td>amish  tomato ketchup  for canning</td>\n",
       "      <td>44061</td>\n",
       "      <td>190</td>\n",
       "      <td>41706</td>\n",
       "      <td>2002-10-25</td>\n",
       "      <td>['weeknight', 'time-to-make', 'course', 'main-...</td>\n",
       "      <td>[352.9, 1.0, 337.0, 23.0, 3.0, 0.0, 28.0]</td>\n",
       "      <td>5</td>\n",
       "      <td>['mix all ingredients&amp; boil for 2 1 / 2 hours ...</td>\n",
       "      <td>my dh's amish mother raised him on this recipe...</td>\n",
       "      <td>['tomato juice', 'apple cider vinegar', 'sugar...</td>\n",
       "      <td>8</td>\n",
       "    </tr>\n",
       "    <tr>\n",
       "      <th>...</th>\n",
       "      <td>...</td>\n",
       "      <td>...</td>\n",
       "      <td>...</td>\n",
       "      <td>...</td>\n",
       "      <td>...</td>\n",
       "      <td>...</td>\n",
       "      <td>...</td>\n",
       "      <td>...</td>\n",
       "      <td>...</td>\n",
       "      <td>...</td>\n",
       "      <td>...</td>\n",
       "      <td>...</td>\n",
       "    </tr>\n",
       "    <tr>\n",
       "      <th>231632</th>\n",
       "      <td>zydeco soup</td>\n",
       "      <td>486161</td>\n",
       "      <td>60</td>\n",
       "      <td>227978</td>\n",
       "      <td>2012-08-29</td>\n",
       "      <td>['ham', '60-minutes-or-less', 'time-to-make', ...</td>\n",
       "      <td>[415.2, 26.0, 34.0, 26.0, 44.0, 21.0, 15.0]</td>\n",
       "      <td>7</td>\n",
       "      <td>['heat oil in a 4-quart dutch oven', 'add cele...</td>\n",
       "      <td>this is a delicious soup that i originally fou...</td>\n",
       "      <td>['celery', 'onion', 'green sweet pepper', 'gar...</td>\n",
       "      <td>22</td>\n",
       "    </tr>\n",
       "    <tr>\n",
       "      <th>231633</th>\n",
       "      <td>zydeco spice mix</td>\n",
       "      <td>493372</td>\n",
       "      <td>5</td>\n",
       "      <td>1500678</td>\n",
       "      <td>2013-01-09</td>\n",
       "      <td>['15-minutes-or-less', 'time-to-make', 'course...</td>\n",
       "      <td>[14.8, 0.0, 2.0, 58.0, 1.0, 0.0, 1.0]</td>\n",
       "      <td>1</td>\n",
       "      <td>['mix all ingredients together thoroughly']</td>\n",
       "      <td>this spice mix will make your taste buds dance!</td>\n",
       "      <td>['paprika', 'salt', 'garlic powder', 'onion po...</td>\n",
       "      <td>13</td>\n",
       "    </tr>\n",
       "    <tr>\n",
       "      <th>231634</th>\n",
       "      <td>zydeco ya ya deviled eggs</td>\n",
       "      <td>308080</td>\n",
       "      <td>40</td>\n",
       "      <td>37779</td>\n",
       "      <td>2008-06-07</td>\n",
       "      <td>['60-minutes-or-less', 'time-to-make', 'course...</td>\n",
       "      <td>[59.2, 6.0, 2.0, 3.0, 6.0, 5.0, 0.0]</td>\n",
       "      <td>7</td>\n",
       "      <td>['in a bowl , combine the mashed yolks and may...</td>\n",
       "      <td>deviled eggs, cajun-style</td>\n",
       "      <td>['hard-cooked eggs', 'mayonnaise', 'dijon must...</td>\n",
       "      <td>8</td>\n",
       "    </tr>\n",
       "    <tr>\n",
       "      <th>231635</th>\n",
       "      <td>cookies by design   cookies on a stick</td>\n",
       "      <td>298512</td>\n",
       "      <td>29</td>\n",
       "      <td>506822</td>\n",
       "      <td>2008-04-15</td>\n",
       "      <td>['30-minutes-or-less', 'time-to-make', 'course...</td>\n",
       "      <td>[188.0, 11.0, 57.0, 11.0, 7.0, 21.0, 9.0]</td>\n",
       "      <td>9</td>\n",
       "      <td>['place melted butter in a large mixing bowl a...</td>\n",
       "      <td>i've heard of the 'cookies by design' company,...</td>\n",
       "      <td>['butter', 'eagle brand condensed milk', 'ligh...</td>\n",
       "      <td>10</td>\n",
       "    </tr>\n",
       "    <tr>\n",
       "      <th>231636</th>\n",
       "      <td>cookies by design   sugar shortbread cookies</td>\n",
       "      <td>298509</td>\n",
       "      <td>20</td>\n",
       "      <td>506822</td>\n",
       "      <td>2008-04-15</td>\n",
       "      <td>['30-minutes-or-less', 'time-to-make', 'course...</td>\n",
       "      <td>[174.9, 14.0, 33.0, 4.0, 4.0, 11.0, 6.0]</td>\n",
       "      <td>5</td>\n",
       "      <td>['whip sugar and shortening in a large bowl , ...</td>\n",
       "      <td>i've heard of the 'cookies by design' company,...</td>\n",
       "      <td>['granulated sugar', 'shortening', 'eggs', 'fl...</td>\n",
       "      <td>7</td>\n",
       "    </tr>\n",
       "  </tbody>\n",
       "</table>\n",
       "<p>231637 rows × 12 columns</p>\n",
       "</div>"
      ],
      "text/plain": [
       "                                                name      id  minutes  \\\n",
       "0         arriba   baked winter squash mexican style  137739       55   \n",
       "1                   a bit different  breakfast pizza   31490       30   \n",
       "2                          all in the kitchen  chili  112140      130   \n",
       "3                                 alouette  potatoes   59389       45   \n",
       "4                 amish  tomato ketchup  for canning   44061      190   \n",
       "...                                              ...     ...      ...   \n",
       "231632                                   zydeco soup  486161       60   \n",
       "231633                              zydeco spice mix  493372        5   \n",
       "231634                     zydeco ya ya deviled eggs  308080       40   \n",
       "231635        cookies by design   cookies on a stick  298512       29   \n",
       "231636  cookies by design   sugar shortbread cookies  298509       20   \n",
       "\n",
       "        contributor_id   submitted  \\\n",
       "0                47892  2005-09-16   \n",
       "1                26278  2002-06-17   \n",
       "2               196586  2005-02-25   \n",
       "3                68585  2003-04-14   \n",
       "4                41706  2002-10-25   \n",
       "...                ...         ...   \n",
       "231632          227978  2012-08-29   \n",
       "231633         1500678  2013-01-09   \n",
       "231634           37779  2008-06-07   \n",
       "231635          506822  2008-04-15   \n",
       "231636          506822  2008-04-15   \n",
       "\n",
       "                                                     tags  \\\n",
       "0       ['60-minutes-or-less', 'time-to-make', 'course...   \n",
       "1       ['30-minutes-or-less', 'time-to-make', 'course...   \n",
       "2       ['time-to-make', 'course', 'preparation', 'mai...   \n",
       "3       ['60-minutes-or-less', 'time-to-make', 'course...   \n",
       "4       ['weeknight', 'time-to-make', 'course', 'main-...   \n",
       "...                                                   ...   \n",
       "231632  ['ham', '60-minutes-or-less', 'time-to-make', ...   \n",
       "231633  ['15-minutes-or-less', 'time-to-make', 'course...   \n",
       "231634  ['60-minutes-or-less', 'time-to-make', 'course...   \n",
       "231635  ['30-minutes-or-less', 'time-to-make', 'course...   \n",
       "231636  ['30-minutes-or-less', 'time-to-make', 'course...   \n",
       "\n",
       "                                          nutrition  n_steps  \\\n",
       "0             [51.5, 0.0, 13.0, 0.0, 2.0, 0.0, 4.0]       11   \n",
       "1         [173.4, 18.0, 0.0, 17.0, 22.0, 35.0, 1.0]        9   \n",
       "2        [269.8, 22.0, 32.0, 48.0, 39.0, 27.0, 5.0]        6   \n",
       "3         [368.1, 17.0, 10.0, 2.0, 14.0, 8.0, 20.0]       11   \n",
       "4         [352.9, 1.0, 337.0, 23.0, 3.0, 0.0, 28.0]        5   \n",
       "...                                             ...      ...   \n",
       "231632  [415.2, 26.0, 34.0, 26.0, 44.0, 21.0, 15.0]        7   \n",
       "231633        [14.8, 0.0, 2.0, 58.0, 1.0, 0.0, 1.0]        1   \n",
       "231634         [59.2, 6.0, 2.0, 3.0, 6.0, 5.0, 0.0]        7   \n",
       "231635    [188.0, 11.0, 57.0, 11.0, 7.0, 21.0, 9.0]        9   \n",
       "231636     [174.9, 14.0, 33.0, 4.0, 4.0, 11.0, 6.0]        5   \n",
       "\n",
       "                                                    steps  \\\n",
       "0       ['make a choice and proceed with recipe', 'dep...   \n",
       "1       ['preheat oven to 425 degrees f', 'press dough...   \n",
       "2       ['brown ground beef in large pot', 'add choppe...   \n",
       "3       ['place potatoes in a large pot of lightly sal...   \n",
       "4       ['mix all ingredients& boil for 2 1 / 2 hours ...   \n",
       "...                                                   ...   \n",
       "231632  ['heat oil in a 4-quart dutch oven', 'add cele...   \n",
       "231633        ['mix all ingredients together thoroughly']   \n",
       "231634  ['in a bowl , combine the mashed yolks and may...   \n",
       "231635  ['place melted butter in a large mixing bowl a...   \n",
       "231636  ['whip sugar and shortening in a large bowl , ...   \n",
       "\n",
       "                                              description  \\\n",
       "0       autumn is my favorite time of year to cook! th...   \n",
       "1       this recipe calls for the crust to be prebaked...   \n",
       "2       this modified version of 'mom's' chili was a h...   \n",
       "3       this is a super easy, great tasting, make ahea...   \n",
       "4       my dh's amish mother raised him on this recipe...   \n",
       "...                                                   ...   \n",
       "231632  this is a delicious soup that i originally fou...   \n",
       "231633    this spice mix will make your taste buds dance!   \n",
       "231634                          deviled eggs, cajun-style   \n",
       "231635  i've heard of the 'cookies by design' company,...   \n",
       "231636  i've heard of the 'cookies by design' company,...   \n",
       "\n",
       "                                              ingredients  n_ingredients  \n",
       "0       ['winter squash', 'mexican seasoning', 'mixed ...              7  \n",
       "1       ['prepared pizza crust', 'sausage patty', 'egg...              6  \n",
       "2       ['ground beef', 'yellow onions', 'diced tomato...             13  \n",
       "3       ['spreadable cheese with garlic and herbs', 'n...             11  \n",
       "4       ['tomato juice', 'apple cider vinegar', 'sugar...              8  \n",
       "...                                                   ...            ...  \n",
       "231632  ['celery', 'onion', 'green sweet pepper', 'gar...             22  \n",
       "231633  ['paprika', 'salt', 'garlic powder', 'onion po...             13  \n",
       "231634  ['hard-cooked eggs', 'mayonnaise', 'dijon must...              8  \n",
       "231635  ['butter', 'eagle brand condensed milk', 'ligh...             10  \n",
       "231636  ['granulated sugar', 'shortening', 'eggs', 'fl...              7  \n",
       "\n",
       "[231637 rows x 12 columns]"
      ]
     },
     "execution_count": 6,
     "metadata": {},
     "output_type": "execute_result"
    }
   ],
   "source": [
    "r_recipes"
   ]
  },
  {
   "cell_type": "code",
   "execution_count": 7,
   "id": "6755e2db",
   "metadata": {},
   "outputs": [
    {
     "data": {
      "text/html": [
       "<div>\n",
       "<style scoped>\n",
       "    .dataframe tbody tr th:only-of-type {\n",
       "        vertical-align: middle;\n",
       "    }\n",
       "\n",
       "    .dataframe tbody tr th {\n",
       "        vertical-align: top;\n",
       "    }\n",
       "\n",
       "    .dataframe thead th {\n",
       "        text-align: right;\n",
       "    }\n",
       "</style>\n",
       "<table border=\"1\" class=\"dataframe\">\n",
       "  <thead>\n",
       "    <tr style=\"text-align: right;\">\n",
       "      <th></th>\n",
       "      <th>id</th>\n",
       "      <th>i</th>\n",
       "      <th>name_tokens</th>\n",
       "      <th>ingredient_tokens</th>\n",
       "      <th>steps_tokens</th>\n",
       "      <th>techniques</th>\n",
       "      <th>calorie_level</th>\n",
       "      <th>ingredient_ids</th>\n",
       "    </tr>\n",
       "  </thead>\n",
       "  <tbody>\n",
       "    <tr>\n",
       "      <th>0</th>\n",
       "      <td>424415</td>\n",
       "      <td>23</td>\n",
       "      <td>[40480, 37229, 2911, 1019, 249, 6878, 6878, 28...</td>\n",
       "      <td>[[2911, 1019, 249, 6878], [1353], [6953], [153...</td>\n",
       "      <td>[40480, 40482, 21662, 481, 6878, 500, 246, 161...</td>\n",
       "      <td>[0, 0, 0, 0, 0, 0, 0, 0, 0, 1, 0, 0, 0, 0, 0, ...</td>\n",
       "      <td>0</td>\n",
       "      <td>[389, 7655, 6270, 1527, 3406]</td>\n",
       "    </tr>\n",
       "    <tr>\n",
       "      <th>1</th>\n",
       "      <td>146223</td>\n",
       "      <td>96900</td>\n",
       "      <td>[40480, 18376, 7056, 246, 1531, 2032, 40481]</td>\n",
       "      <td>[[17918], [25916], [2507, 6444], [8467, 1179],...</td>\n",
       "      <td>[40480, 40482, 729, 2525, 10906, 485, 43, 8393...</td>\n",
       "      <td>[1, 0, 0, 0, 0, 0, 0, 0, 0, 1, 0, 0, 0, 0, 0, ...</td>\n",
       "      <td>0</td>\n",
       "      <td>[2683, 4969, 800, 5298, 840, 2499, 6632, 7022,...</td>\n",
       "    </tr>\n",
       "    <tr>\n",
       "      <th>2</th>\n",
       "      <td>312329</td>\n",
       "      <td>120056</td>\n",
       "      <td>[40480, 21044, 16954, 8294, 556, 10837, 40481]</td>\n",
       "      <td>[[5867, 24176], [1353], [6953], [1301, 11332],...</td>\n",
       "      <td>[40480, 40482, 8240, 481, 24176, 296, 1353, 66...</td>\n",
       "      <td>[0, 0, 0, 0, 1, 0, 0, 0, 0, 0, 0, 1, 0, 0, 0, ...</td>\n",
       "      <td>1</td>\n",
       "      <td>[1257, 7655, 6270, 590, 5024, 1119, 4883, 6696...</td>\n",
       "    </tr>\n",
       "    <tr>\n",
       "      <th>3</th>\n",
       "      <td>74301</td>\n",
       "      <td>168258</td>\n",
       "      <td>[40480, 10025, 31156, 40481]</td>\n",
       "      <td>[[1270, 1645, 28447], [21601], [27952, 29471, ...</td>\n",
       "      <td>[40480, 40482, 5539, 21601, 1073, 903, 2324, 4...</td>\n",
       "      <td>[1, 0, 0, 0, 0, 0, 0, 0, 0, 0, 0, 0, 0, 0, 0, ...</td>\n",
       "      <td>0</td>\n",
       "      <td>[7940, 3609, 7060, 6265, 1170, 6654, 5003, 3561]</td>\n",
       "    </tr>\n",
       "    <tr>\n",
       "      <th>4</th>\n",
       "      <td>76272</td>\n",
       "      <td>109030</td>\n",
       "      <td>[40480, 17841, 252, 782, 2373, 1641, 2373, 252...</td>\n",
       "      <td>[[1430, 11434], [1430, 17027], [1615, 23, 695,...</td>\n",
       "      <td>[40480, 40482, 14046, 1430, 11434, 488, 17027,...</td>\n",
       "      <td>[0, 0, 0, 0, 0, 0, 0, 0, 0, 1, 0, 0, 0, 0, 0, ...</td>\n",
       "      <td>0</td>\n",
       "      <td>[3484, 6324, 7594, 243]</td>\n",
       "    </tr>\n",
       "    <tr>\n",
       "      <th>...</th>\n",
       "      <td>...</td>\n",
       "      <td>...</td>\n",
       "      <td>...</td>\n",
       "      <td>...</td>\n",
       "      <td>...</td>\n",
       "      <td>...</td>\n",
       "      <td>...</td>\n",
       "      <td>...</td>\n",
       "    </tr>\n",
       "    <tr>\n",
       "      <th>178260</th>\n",
       "      <td>323143</td>\n",
       "      <td>76862</td>\n",
       "      <td>[40480, 6444, 1964, 9369, 486, 569, 17551, 40481]</td>\n",
       "      <td>[[8780], [11835, 1762, 4465, 31494], [6812], [...</td>\n",
       "      <td>[40480, 40482, 729, 2525, 715, 485, 26641, 404...</td>\n",
       "      <td>[1, 0, 0, 0, 0, 0, 0, 0, 0, 0, 0, 0, 0, 0, 0, ...</td>\n",
       "      <td>1</td>\n",
       "      <td>[840, 208, 2499, 2683, 1925, 335, 1511]</td>\n",
       "    </tr>\n",
       "    <tr>\n",
       "      <th>178261</th>\n",
       "      <td>149114</td>\n",
       "      <td>145962</td>\n",
       "      <td>[40480, 17027, 24715, 974, 11877, 40481]</td>\n",
       "      <td>[[6812], [5940], [30645, 4785, 6821], [6953], ...</td>\n",
       "      <td>[40480, 40482, 729, 2525, 10906, 485, 43, 8393...</td>\n",
       "      <td>[1, 0, 0, 0, 0, 0, 0, 0, 0, 0, 0, 0, 0, 0, 0, ...</td>\n",
       "      <td>0</td>\n",
       "      <td>[2499, 4717, 1168, 6270, 6324, 7040]</td>\n",
       "    </tr>\n",
       "    <tr>\n",
       "      <th>178262</th>\n",
       "      <td>34200</td>\n",
       "      <td>65066</td>\n",
       "      <td>[40480, 12187, 11434, 1738, 2627, 40481]</td>\n",
       "      <td>[[6167, 20930, 510], [1353], [15022, 6953], [6...</td>\n",
       "      <td>[40480, 40482, 500, 246, 1719, 5024, 240, 2366...</td>\n",
       "      <td>[1, 0, 0, 0, 0, 0, 0, 0, 0, 1, 0, 0, 0, 0, 0, ...</td>\n",
       "      <td>2</td>\n",
       "      <td>[2378, 7655, 3219, 2320, 5168, 5319, 4189, 268...</td>\n",
       "    </tr>\n",
       "    <tr>\n",
       "      <th>178263</th>\n",
       "      <td>30618</td>\n",
       "      <td>77358</td>\n",
       "      <td>[40480, 870, 488, 1325, 519, 2220, 2417, 488, ...</td>\n",
       "      <td>[[12395, 38308, 40118], [3137, 15022], [30878,...</td>\n",
       "      <td>[40480, 40482, 562, 481, 10734, 240, 23667, 58...</td>\n",
       "      <td>[0, 0, 0, 0, 1, 0, 0, 0, 0, 1, 0, 0, 0, 0, 0, ...</td>\n",
       "      <td>0</td>\n",
       "      <td>[5627, 2807, 5412, 3399, 7979, 1093, 1257, 780...</td>\n",
       "    </tr>\n",
       "    <tr>\n",
       "      <th>178264</th>\n",
       "      <td>263840</td>\n",
       "      <td>137160</td>\n",
       "      <td>[40480, 30565, 12316, 1024, 40481]</td>\n",
       "      <td>[[3151, 12486], [2507, 6444], [30565], [17918]...</td>\n",
       "      <td>[40480, 40482, 729, 2525, 10906, 485, 43, 2232...</td>\n",
       "      <td>[1, 0, 0, 1, 0, 0, 0, 0, 0, 0, 0, 0, 0, 0, 0, ...</td>\n",
       "      <td>0</td>\n",
       "      <td>[6473, 800, 4807, 2683, 335, 1563, 1511, 3248,...</td>\n",
       "    </tr>\n",
       "  </tbody>\n",
       "</table>\n",
       "<p>178265 rows × 8 columns</p>\n",
       "</div>"
      ],
      "text/plain": [
       "            id       i                                        name_tokens  \\\n",
       "0       424415      23  [40480, 37229, 2911, 1019, 249, 6878, 6878, 28...   \n",
       "1       146223   96900       [40480, 18376, 7056, 246, 1531, 2032, 40481]   \n",
       "2       312329  120056     [40480, 21044, 16954, 8294, 556, 10837, 40481]   \n",
       "3        74301  168258                       [40480, 10025, 31156, 40481]   \n",
       "4        76272  109030  [40480, 17841, 252, 782, 2373, 1641, 2373, 252...   \n",
       "...        ...     ...                                                ...   \n",
       "178260  323143   76862  [40480, 6444, 1964, 9369, 486, 569, 17551, 40481]   \n",
       "178261  149114  145962           [40480, 17027, 24715, 974, 11877, 40481]   \n",
       "178262   34200   65066           [40480, 12187, 11434, 1738, 2627, 40481]   \n",
       "178263   30618   77358  [40480, 870, 488, 1325, 519, 2220, 2417, 488, ...   \n",
       "178264  263840  137160                 [40480, 30565, 12316, 1024, 40481]   \n",
       "\n",
       "                                        ingredient_tokens  \\\n",
       "0       [[2911, 1019, 249, 6878], [1353], [6953], [153...   \n",
       "1       [[17918], [25916], [2507, 6444], [8467, 1179],...   \n",
       "2       [[5867, 24176], [1353], [6953], [1301, 11332],...   \n",
       "3       [[1270, 1645, 28447], [21601], [27952, 29471, ...   \n",
       "4       [[1430, 11434], [1430, 17027], [1615, 23, 695,...   \n",
       "...                                                   ...   \n",
       "178260  [[8780], [11835, 1762, 4465, 31494], [6812], [...   \n",
       "178261  [[6812], [5940], [30645, 4785, 6821], [6953], ...   \n",
       "178262  [[6167, 20930, 510], [1353], [15022, 6953], [6...   \n",
       "178263  [[12395, 38308, 40118], [3137, 15022], [30878,...   \n",
       "178264  [[3151, 12486], [2507, 6444], [30565], [17918]...   \n",
       "\n",
       "                                             steps_tokens  \\\n",
       "0       [40480, 40482, 21662, 481, 6878, 500, 246, 161...   \n",
       "1       [40480, 40482, 729, 2525, 10906, 485, 43, 8393...   \n",
       "2       [40480, 40482, 8240, 481, 24176, 296, 1353, 66...   \n",
       "3       [40480, 40482, 5539, 21601, 1073, 903, 2324, 4...   \n",
       "4       [40480, 40482, 14046, 1430, 11434, 488, 17027,...   \n",
       "...                                                   ...   \n",
       "178260  [40480, 40482, 729, 2525, 715, 485, 26641, 404...   \n",
       "178261  [40480, 40482, 729, 2525, 10906, 485, 43, 8393...   \n",
       "178262  [40480, 40482, 500, 246, 1719, 5024, 240, 2366...   \n",
       "178263  [40480, 40482, 562, 481, 10734, 240, 23667, 58...   \n",
       "178264  [40480, 40482, 729, 2525, 10906, 485, 43, 2232...   \n",
       "\n",
       "                                               techniques  calorie_level  \\\n",
       "0       [0, 0, 0, 0, 0, 0, 0, 0, 0, 1, 0, 0, 0, 0, 0, ...              0   \n",
       "1       [1, 0, 0, 0, 0, 0, 0, 0, 0, 1, 0, 0, 0, 0, 0, ...              0   \n",
       "2       [0, 0, 0, 0, 1, 0, 0, 0, 0, 0, 0, 1, 0, 0, 0, ...              1   \n",
       "3       [1, 0, 0, 0, 0, 0, 0, 0, 0, 0, 0, 0, 0, 0, 0, ...              0   \n",
       "4       [0, 0, 0, 0, 0, 0, 0, 0, 0, 1, 0, 0, 0, 0, 0, ...              0   \n",
       "...                                                   ...            ...   \n",
       "178260  [1, 0, 0, 0, 0, 0, 0, 0, 0, 0, 0, 0, 0, 0, 0, ...              1   \n",
       "178261  [1, 0, 0, 0, 0, 0, 0, 0, 0, 0, 0, 0, 0, 0, 0, ...              0   \n",
       "178262  [1, 0, 0, 0, 0, 0, 0, 0, 0, 1, 0, 0, 0, 0, 0, ...              2   \n",
       "178263  [0, 0, 0, 0, 1, 0, 0, 0, 0, 1, 0, 0, 0, 0, 0, ...              0   \n",
       "178264  [1, 0, 0, 1, 0, 0, 0, 0, 0, 0, 0, 0, 0, 0, 0, ...              0   \n",
       "\n",
       "                                           ingredient_ids  \n",
       "0                           [389, 7655, 6270, 1527, 3406]  \n",
       "1       [2683, 4969, 800, 5298, 840, 2499, 6632, 7022,...  \n",
       "2       [1257, 7655, 6270, 590, 5024, 1119, 4883, 6696...  \n",
       "3        [7940, 3609, 7060, 6265, 1170, 6654, 5003, 3561]  \n",
       "4                                 [3484, 6324, 7594, 243]  \n",
       "...                                                   ...  \n",
       "178260            [840, 208, 2499, 2683, 1925, 335, 1511]  \n",
       "178261               [2499, 4717, 1168, 6270, 6324, 7040]  \n",
       "178262  [2378, 7655, 3219, 2320, 5168, 5319, 4189, 268...  \n",
       "178263  [5627, 2807, 5412, 3399, 7979, 1093, 1257, 780...  \n",
       "178264  [6473, 800, 4807, 2683, 335, 1563, 1511, 3248,...  \n",
       "\n",
       "[178265 rows x 8 columns]"
      ]
     },
     "execution_count": 7,
     "metadata": {},
     "output_type": "execute_result"
    }
   ],
   "source": [
    "p_recipes"
   ]
  },
  {
   "cell_type": "code",
   "execution_count": 8,
   "id": "644762f7",
   "metadata": {},
   "outputs": [],
   "source": [
    "calorie_level = list(p_recipes.calorie_level)"
   ]
  },
  {
   "cell_type": "code",
   "execution_count": 9,
   "id": "b4a037ba",
   "metadata": {},
   "outputs": [],
   "source": [
    "train_size = int(0.8 * len(p_recipes))\n",
    "p_recipes_train = p_recipes[:train_size]\n",
    "calorie_level_train = p_recipes.calorie_level[:train_size]\n",
    "p_recipes_test = p_recipes[train_size:]\n",
    "calorie_level_test = p_recipes.calorie_level[train_size:]"
   ]
  },
  {
   "cell_type": "code",
   "execution_count": 10,
   "id": "08ab9050",
   "metadata": {},
   "outputs": [
    {
     "data": {
      "text/html": [
       "<div>\n",
       "<style scoped>\n",
       "    .dataframe tbody tr th:only-of-type {\n",
       "        vertical-align: middle;\n",
       "    }\n",
       "\n",
       "    .dataframe tbody tr th {\n",
       "        vertical-align: top;\n",
       "    }\n",
       "\n",
       "    .dataframe thead th {\n",
       "        text-align: right;\n",
       "    }\n",
       "</style>\n",
       "<table border=\"1\" class=\"dataframe\">\n",
       "  <thead>\n",
       "    <tr style=\"text-align: right;\">\n",
       "      <th></th>\n",
       "      <th>id</th>\n",
       "      <th>i</th>\n",
       "      <th>name_tokens</th>\n",
       "      <th>ingredient_tokens</th>\n",
       "      <th>steps_tokens</th>\n",
       "      <th>techniques</th>\n",
       "      <th>calorie_level</th>\n",
       "      <th>ingredient_ids</th>\n",
       "    </tr>\n",
       "  </thead>\n",
       "  <tbody>\n",
       "    <tr>\n",
       "      <th>0</th>\n",
       "      <td>424415</td>\n",
       "      <td>23</td>\n",
       "      <td>[40480, 37229, 2911, 1019, 249, 6878, 6878, 28...</td>\n",
       "      <td>[[2911, 1019, 249, 6878], [1353], [6953], [153...</td>\n",
       "      <td>[40480, 40482, 21662, 481, 6878, 500, 246, 161...</td>\n",
       "      <td>[0, 0, 0, 0, 0, 0, 0, 0, 0, 1, 0, 0, 0, 0, 0, ...</td>\n",
       "      <td>0</td>\n",
       "      <td>[389, 7655, 6270, 1527, 3406]</td>\n",
       "    </tr>\n",
       "    <tr>\n",
       "      <th>1</th>\n",
       "      <td>146223</td>\n",
       "      <td>96900</td>\n",
       "      <td>[40480, 18376, 7056, 246, 1531, 2032, 40481]</td>\n",
       "      <td>[[17918], [25916], [2507, 6444], [8467, 1179],...</td>\n",
       "      <td>[40480, 40482, 729, 2525, 10906, 485, 43, 8393...</td>\n",
       "      <td>[1, 0, 0, 0, 0, 0, 0, 0, 0, 1, 0, 0, 0, 0, 0, ...</td>\n",
       "      <td>0</td>\n",
       "      <td>[2683, 4969, 800, 5298, 840, 2499, 6632, 7022,...</td>\n",
       "    </tr>\n",
       "    <tr>\n",
       "      <th>2</th>\n",
       "      <td>312329</td>\n",
       "      <td>120056</td>\n",
       "      <td>[40480, 21044, 16954, 8294, 556, 10837, 40481]</td>\n",
       "      <td>[[5867, 24176], [1353], [6953], [1301, 11332],...</td>\n",
       "      <td>[40480, 40482, 8240, 481, 24176, 296, 1353, 66...</td>\n",
       "      <td>[0, 0, 0, 0, 1, 0, 0, 0, 0, 0, 0, 1, 0, 0, 0, ...</td>\n",
       "      <td>1</td>\n",
       "      <td>[1257, 7655, 6270, 590, 5024, 1119, 4883, 6696...</td>\n",
       "    </tr>\n",
       "    <tr>\n",
       "      <th>3</th>\n",
       "      <td>74301</td>\n",
       "      <td>168258</td>\n",
       "      <td>[40480, 10025, 31156, 40481]</td>\n",
       "      <td>[[1270, 1645, 28447], [21601], [27952, 29471, ...</td>\n",
       "      <td>[40480, 40482, 5539, 21601, 1073, 903, 2324, 4...</td>\n",
       "      <td>[1, 0, 0, 0, 0, 0, 0, 0, 0, 0, 0, 0, 0, 0, 0, ...</td>\n",
       "      <td>0</td>\n",
       "      <td>[7940, 3609, 7060, 6265, 1170, 6654, 5003, 3561]</td>\n",
       "    </tr>\n",
       "    <tr>\n",
       "      <th>4</th>\n",
       "      <td>76272</td>\n",
       "      <td>109030</td>\n",
       "      <td>[40480, 17841, 252, 782, 2373, 1641, 2373, 252...</td>\n",
       "      <td>[[1430, 11434], [1430, 17027], [1615, 23, 695,...</td>\n",
       "      <td>[40480, 40482, 14046, 1430, 11434, 488, 17027,...</td>\n",
       "      <td>[0, 0, 0, 0, 0, 0, 0, 0, 0, 1, 0, 0, 0, 0, 0, ...</td>\n",
       "      <td>0</td>\n",
       "      <td>[3484, 6324, 7594, 243]</td>\n",
       "    </tr>\n",
       "    <tr>\n",
       "      <th>...</th>\n",
       "      <td>...</td>\n",
       "      <td>...</td>\n",
       "      <td>...</td>\n",
       "      <td>...</td>\n",
       "      <td>...</td>\n",
       "      <td>...</td>\n",
       "      <td>...</td>\n",
       "      <td>...</td>\n",
       "    </tr>\n",
       "    <tr>\n",
       "      <th>142607</th>\n",
       "      <td>289133</td>\n",
       "      <td>62432</td>\n",
       "      <td>[40480, 1527, 478, 36, 6060, 21961, 6047, 488,...</td>\n",
       "      <td>[[21961, 7111], [15022, 6953], [21453], [8780]...</td>\n",
       "      <td>[40480, 40482, 729, 2525, 10906, 485, 43, 8393...</td>\n",
       "      <td>[1, 0, 0, 0, 0, 0, 0, 0, 0, 0, 0, 0, 0, 0, 0, ...</td>\n",
       "      <td>1</td>\n",
       "      <td>[2516, 3219, 5010, 840, 1723, 7801, 7213, 2683...</td>\n",
       "    </tr>\n",
       "    <tr>\n",
       "      <th>142608</th>\n",
       "      <td>135201</td>\n",
       "      <td>6959</td>\n",
       "      <td>[40480, 13731, 21278, 40481]</td>\n",
       "      <td>[[21190], [6444], [1353], [9230, 789, 607], [1...</td>\n",
       "      <td>[40480, 40482, 2698, 488, 21662, 11125, 40478,...</td>\n",
       "      <td>[0, 0, 0, 0, 1, 0, 0, 0, 0, 0, 0, 0, 0, 0, 0, ...</td>\n",
       "      <td>0</td>\n",
       "      <td>[6846, 6906, 7655, 1833, 7449, 4284]</td>\n",
       "    </tr>\n",
       "    <tr>\n",
       "      <th>142609</th>\n",
       "      <td>264171</td>\n",
       "      <td>68193</td>\n",
       "      <td>[40480, 38450, 5082, 1301, 16201, 22942, 40481]</td>\n",
       "      <td>[[6167, 1301, 11007], [15022, 796, 964], [1941...</td>\n",
       "      <td>[40480, 40482, 21662, 488, 2042, 481, 1301, 11...</td>\n",
       "      <td>[0, 0, 0, 0, 0, 0, 0, 0, 0, 0, 1, 0, 0, 0, 0, ...</td>\n",
       "      <td>1</td>\n",
       "      <td>[2218, 3203, 5010, 1986, 1329, 3502, 2320, 393...</td>\n",
       "    </tr>\n",
       "    <tr>\n",
       "      <th>142610</th>\n",
       "      <td>282958</td>\n",
       "      <td>37415</td>\n",
       "      <td>[40480, 265, 263, 1257, 539, 252, 5390, 1866, ...</td>\n",
       "      <td>[[4017], [33192, 1101, 25388, 39727], [11182],...</td>\n",
       "      <td>[40480, 40482, 2525, 481, 18775, 4017, 668, 48...</td>\n",
       "      <td>[0, 0, 0, 0, 0, 0, 0, 0, 0, 0, 0, 0, 0, 0, 0, ...</td>\n",
       "      <td>1</td>\n",
       "      <td>[3723, 6384, 710, 5058, 5038, 6846, 6731, 3824...</td>\n",
       "    </tr>\n",
       "    <tr>\n",
       "      <th>142611</th>\n",
       "      <td>165782</td>\n",
       "      <td>105548</td>\n",
       "      <td>[40480, 5516, 6539, 18896, 10837, 40481]</td>\n",
       "      <td>[[15473, 10837], [39327], [3137, 34058], [1502...</td>\n",
       "      <td>[40480, 40482, 14316, 10837, 488, 19007, 2506,...</td>\n",
       "      <td>[1, 0, 0, 0, 0, 0, 0, 0, 0, 0, 0, 0, 0, 0, 0, ...</td>\n",
       "      <td>1</td>\n",
       "      <td>[331, 221, 2898, 3185, 6516, 3840, 4836, 6276]</td>\n",
       "    </tr>\n",
       "  </tbody>\n",
       "</table>\n",
       "<p>142612 rows × 8 columns</p>\n",
       "</div>"
      ],
      "text/plain": [
       "            id       i                                        name_tokens  \\\n",
       "0       424415      23  [40480, 37229, 2911, 1019, 249, 6878, 6878, 28...   \n",
       "1       146223   96900       [40480, 18376, 7056, 246, 1531, 2032, 40481]   \n",
       "2       312329  120056     [40480, 21044, 16954, 8294, 556, 10837, 40481]   \n",
       "3        74301  168258                       [40480, 10025, 31156, 40481]   \n",
       "4        76272  109030  [40480, 17841, 252, 782, 2373, 1641, 2373, 252...   \n",
       "...        ...     ...                                                ...   \n",
       "142607  289133   62432  [40480, 1527, 478, 36, 6060, 21961, 6047, 488,...   \n",
       "142608  135201    6959                       [40480, 13731, 21278, 40481]   \n",
       "142609  264171   68193    [40480, 38450, 5082, 1301, 16201, 22942, 40481]   \n",
       "142610  282958   37415  [40480, 265, 263, 1257, 539, 252, 5390, 1866, ...   \n",
       "142611  165782  105548           [40480, 5516, 6539, 18896, 10837, 40481]   \n",
       "\n",
       "                                        ingredient_tokens  \\\n",
       "0       [[2911, 1019, 249, 6878], [1353], [6953], [153...   \n",
       "1       [[17918], [25916], [2507, 6444], [8467, 1179],...   \n",
       "2       [[5867, 24176], [1353], [6953], [1301, 11332],...   \n",
       "3       [[1270, 1645, 28447], [21601], [27952, 29471, ...   \n",
       "4       [[1430, 11434], [1430, 17027], [1615, 23, 695,...   \n",
       "...                                                   ...   \n",
       "142607  [[21961, 7111], [15022, 6953], [21453], [8780]...   \n",
       "142608  [[21190], [6444], [1353], [9230, 789, 607], [1...   \n",
       "142609  [[6167, 1301, 11007], [15022, 796, 964], [1941...   \n",
       "142610  [[4017], [33192, 1101, 25388, 39727], [11182],...   \n",
       "142611  [[15473, 10837], [39327], [3137, 34058], [1502...   \n",
       "\n",
       "                                             steps_tokens  \\\n",
       "0       [40480, 40482, 21662, 481, 6878, 500, 246, 161...   \n",
       "1       [40480, 40482, 729, 2525, 10906, 485, 43, 8393...   \n",
       "2       [40480, 40482, 8240, 481, 24176, 296, 1353, 66...   \n",
       "3       [40480, 40482, 5539, 21601, 1073, 903, 2324, 4...   \n",
       "4       [40480, 40482, 14046, 1430, 11434, 488, 17027,...   \n",
       "...                                                   ...   \n",
       "142607  [40480, 40482, 729, 2525, 10906, 485, 43, 8393...   \n",
       "142608  [40480, 40482, 2698, 488, 21662, 11125, 40478,...   \n",
       "142609  [40480, 40482, 21662, 488, 2042, 481, 1301, 11...   \n",
       "142610  [40480, 40482, 2525, 481, 18775, 4017, 668, 48...   \n",
       "142611  [40480, 40482, 14316, 10837, 488, 19007, 2506,...   \n",
       "\n",
       "                                               techniques  calorie_level  \\\n",
       "0       [0, 0, 0, 0, 0, 0, 0, 0, 0, 1, 0, 0, 0, 0, 0, ...              0   \n",
       "1       [1, 0, 0, 0, 0, 0, 0, 0, 0, 1, 0, 0, 0, 0, 0, ...              0   \n",
       "2       [0, 0, 0, 0, 1, 0, 0, 0, 0, 0, 0, 1, 0, 0, 0, ...              1   \n",
       "3       [1, 0, 0, 0, 0, 0, 0, 0, 0, 0, 0, 0, 0, 0, 0, ...              0   \n",
       "4       [0, 0, 0, 0, 0, 0, 0, 0, 0, 1, 0, 0, 0, 0, 0, ...              0   \n",
       "...                                                   ...            ...   \n",
       "142607  [1, 0, 0, 0, 0, 0, 0, 0, 0, 0, 0, 0, 0, 0, 0, ...              1   \n",
       "142608  [0, 0, 0, 0, 1, 0, 0, 0, 0, 0, 0, 0, 0, 0, 0, ...              0   \n",
       "142609  [0, 0, 0, 0, 0, 0, 0, 0, 0, 0, 1, 0, 0, 0, 0, ...              1   \n",
       "142610  [0, 0, 0, 0, 0, 0, 0, 0, 0, 0, 0, 0, 0, 0, 0, ...              1   \n",
       "142611  [1, 0, 0, 0, 0, 0, 0, 0, 0, 0, 0, 0, 0, 0, 0, ...              1   \n",
       "\n",
       "                                           ingredient_ids  \n",
       "0                           [389, 7655, 6270, 1527, 3406]  \n",
       "1       [2683, 4969, 800, 5298, 840, 2499, 6632, 7022,...  \n",
       "2       [1257, 7655, 6270, 590, 5024, 1119, 4883, 6696...  \n",
       "3        [7940, 3609, 7060, 6265, 1170, 6654, 5003, 3561]  \n",
       "4                                 [3484, 6324, 7594, 243]  \n",
       "...                                                   ...  \n",
       "142607  [2516, 3219, 5010, 840, 1723, 7801, 7213, 2683...  \n",
       "142608               [6846, 6906, 7655, 1833, 7449, 4284]  \n",
       "142609  [2218, 3203, 5010, 1986, 1329, 3502, 2320, 393...  \n",
       "142610  [3723, 6384, 710, 5058, 5038, 6846, 6731, 3824...  \n",
       "142611     [331, 221, 2898, 3185, 6516, 3840, 4836, 6276]  \n",
       "\n",
       "[142612 rows x 8 columns]"
      ]
     },
     "execution_count": 10,
     "metadata": {},
     "output_type": "execute_result"
    }
   ],
   "source": [
    "p_recipes_train"
   ]
  },
  {
   "cell_type": "markdown",
   "id": "196346cf",
   "metadata": {},
   "source": [
    "## techniques"
   ]
  },
  {
   "cell_type": "code",
   "execution_count": 15,
   "id": "6e8398e1",
   "metadata": {},
   "outputs": [],
   "source": [
    "technique_feature_train = list(eval(technique) for technique in p_recipes_train.techniques)\n",
    "technique_feature_test = list(eval(technique) for technique in p_recipes_test.techniques)"
   ]
  },
  {
   "cell_type": "code",
   "execution_count": 16,
   "id": "e64b0503",
   "metadata": {},
   "outputs": [
    {
     "data": {
      "text/plain": [
       "178265"
      ]
     },
     "execution_count": 16,
     "metadata": {},
     "output_type": "execute_result"
    }
   ],
   "source": [
    "len(calorie_level)"
   ]
  },
  {
   "cell_type": "code",
   "execution_count": 18,
   "id": "72226df9",
   "metadata": {},
   "outputs": [
    {
     "data": {
      "text/plain": [
       "0.4474"
      ]
     },
     "execution_count": 18,
     "metadata": {},
     "output_type": "execute_result"
    }
   ],
   "source": [
    "LR = LogisticRegression(random_state=0, solver='lbfgs', multi_class='multinomial', max_iter=800).fit(technique_feature_train, calorie_level_train)\n",
    "LR.predict(technique_feature_test)\n",
    "round(LR.score(technique_feature_test, calorie_level_test), 4)\n"
   ]
  },
  {
   "cell_type": "code",
   "execution_count": null,
   "id": "0f3dc09b",
   "metadata": {},
   "outputs": [],
   "source": [
    "SVM = svm.SVC(decision_function_shape=\"ovo\").fit(technique_feature_train, calorie_level_train)\n",
    "SVM.predict(technique_feature_test)\n",
    "round(SVM.score(technique_feature_test, calorie_level_test), 4)"
   ]
  },
  {
   "cell_type": "code",
   "execution_count": 18,
   "id": "cdec6d55",
   "metadata": {},
   "outputs": [
    {
     "data": {
      "text/plain": [
       "0.4528"
      ]
     },
     "execution_count": 18,
     "metadata": {},
     "output_type": "execute_result"
    }
   ],
   "source": [
    "RF = RandomForestClassifier(n_estimators=1000, max_depth=10, random_state=0).fit(technique_feature_train, calorie_level_train)\n",
    "RF.predict(technique_feature_test)\n",
    "round(RF.score(technique_feature_test, calorie_level_test), 4)\n"
   ]
  },
  {
   "cell_type": "code",
   "execution_count": 22,
   "id": "69d11842",
   "metadata": {},
   "outputs": [
    {
     "name": "stderr",
     "output_type": "stream",
     "text": [
      "/usr/local/lib/python3.7/site-packages/sklearn/neural_network/_multilayer_perceptron.py:549: ConvergenceWarning: lbfgs failed to converge (status=1):\n",
      "STOP: TOTAL NO. of ITERATIONS REACHED LIMIT.\n",
      "\n",
      "Increase the number of iterations (max_iter) or scale the data as shown in:\n",
      "    https://scikit-learn.org/stable/modules/preprocessing.html\n",
      "  self.n_iter_ = _check_optimize_result(\"lbfgs\", opt_res, self.max_iter)\n"
     ]
    },
    {
     "data": {
      "text/plain": [
       "0.4471"
      ]
     },
     "execution_count": 22,
     "metadata": {},
     "output_type": "execute_result"
    }
   ],
   "source": [
    "NN = MLPClassifier(solver='lbfgs', alpha=1e-5, hidden_layer_sizes=(150, 10), random_state=1, max_iter=800).fit(technique_feature_train, calorie_level_train)\n",
    "NN.predict(technique_feature_test)\n",
    "round(NN.score(technique_feature_test, calorie_level_test), 4)"
   ]
  },
  {
   "cell_type": "code",
   "execution_count": null,
   "id": "43b4fd72",
   "metadata": {},
   "outputs": [
    {
     "name": "stderr",
     "output_type": "stream",
     "text": [
      "/usr/local/lib/python3.7/site-packages/xgboost/sklearn.py:1224: UserWarning: The use of label encoder in XGBClassifier is deprecated and will be removed in a future release. To remove this warning, do the following: 1) Pass option use_label_encoder=False when constructing XGBClassifier object; and 2) Encode your labels (y) as integers starting with 0, i.e. 0, 1, 2, ..., [num_class - 1].\n",
      "  warnings.warn(label_encoder_deprecation_msg, UserWarning)\n"
     ]
    }
   ],
   "source": [
    "clf = xgb.XGBClassifier(max_depth=7, n_estimators=200, colsample_bytree=0.8, \n",
    "                        subsample=0.8, nthread=10, learning_rate=0.1)\n",
    "clf.fit(technique_feature_train, calorie_level_train)\n",
    "predictions = clf.predict_proba(technique_feature_test)"
   ]
  },
  {
   "cell_type": "markdown",
   "id": "9cb83645",
   "metadata": {},
   "source": [
    "## ingredient_ids"
   ]
  },
  {
   "cell_type": "code",
   "execution_count": 11,
   "id": "493ce452",
   "metadata": {},
   "outputs": [],
   "source": [
    "ingredient_id_train = [eval(ingredient_ids) for ingredient_ids in p_recipes_train.ingredient_ids]\n",
    "ingredient_id_test = [eval(ingredient_ids) for ingredient_ids in p_recipes_test.ingredient_ids]"
   ]
  },
  {
   "cell_type": "code",
   "execution_count": 12,
   "id": "52dd291a",
   "metadata": {},
   "outputs": [],
   "source": [
    "ingredient_count = defaultdict(int)\n",
    "for ingredient_ids in p_recipes_train.ingredient_ids:\n",
    "    for ingredient in eval(ingredient_ids):\n",
    "        ingredient_count[ingredient] += 1\n",
    "ingredients_sorted = sorted(list(ingredient_count.items()), key= lambda x:x[1], reverse=True)[:500]\n",
    "    \n",
    "def feat(ingredient_id):\n",
    "    feature = []\n",
    "    for ingredient, count in ingredients_sorted:\n",
    "        if ingredient in ingredient_id:\n",
    "            feature.append(1)\n",
    "        else:\n",
    "            feature.append(0)\n",
    "    return feature"
   ]
  },
  {
   "cell_type": "code",
   "execution_count": 17,
   "id": "7c5e958f",
   "metadata": {},
   "outputs": [],
   "source": [
    "onehot_ingredient_id_train =  np.array([feat(ingredient_id) for ingredient_id in ingredient_id_train])"
   ]
  },
  {
   "cell_type": "code",
   "execution_count": 18,
   "id": "66b98393",
   "metadata": {},
   "outputs": [],
   "source": [
    "onehot_ingredient_id_test =  np.array([feat(ingredient_id) for ingredient_id in ingredient_id_test])"
   ]
  },
  {
   "cell_type": "code",
   "execution_count": 85,
   "id": "7434174b",
   "metadata": {},
   "outputs": [
    {
     "data": {
      "text/plain": [
       "500"
      ]
     },
     "execution_count": 85,
     "metadata": {},
     "output_type": "execute_result"
    }
   ],
   "source": [
    "len(onehot_ingredient_id_train[1])"
   ]
  },
  {
   "cell_type": "code",
   "execution_count": 28,
   "id": "df033968",
   "metadata": {},
   "outputs": [
    {
     "name": "stdout",
     "output_type": "stream",
     "text": [
      "0.5189465122149609\n"
     ]
    }
   ],
   "source": [
    "LR = LogisticRegression(random_state=0, solver='lbfgs', multi_class='multinomial', max_iter=800).fit(onehot_ingredient_id_train, calorie_level_train)\n",
    "LR_predictions = LR.predict(onehot_ingredient_id_test)\n",
    "# round(LR.score(onehot_ingredient_id_test, calorie_level_test), 4)\n"
   ]
  },
  {
   "cell_type": "code",
   "execution_count": 37,
   "id": "aeedc626",
   "metadata": {},
   "outputs": [
    {
     "name": "stdout",
     "output_type": "stream",
     "text": [
      "0.5098733810358201\n"
     ]
    }
   ],
   "source": [
    "print(precision_score(calorie_level_test, LR_predictions,average='macro'))"
   ]
  },
  {
   "cell_type": "code",
   "execution_count": 30,
   "id": "db557a5e",
   "metadata": {},
   "outputs": [
    {
     "name": "stdout",
     "output_type": "stream",
     "text": [
      "0.46108321880346675\n"
     ]
    }
   ],
   "source": [
    "RF = RandomForestClassifier(n_estimators=1000, max_depth=10, random_state=0).fit(onehot_ingredient_id_train, calorie_level_train)\n",
    "RF_predictions = RF.predict(onehot_ingredient_id_test)\n",
    "round(RF.score(onehot_ingredient_id_test, calorie_level_test), 4)\n"
   ]
  },
  {
   "cell_type": "code",
   "execution_count": 35,
   "id": "2492c1d9",
   "metadata": {},
   "outputs": [
    {
     "name": "stdout",
     "output_type": "stream",
     "text": [
      "0.5595758742462492\n"
     ]
    }
   ],
   "source": [
    "print(precision_score(calorie_level_test, RF_predictions,average='macro'))"
   ]
  },
  {
   "cell_type": "code",
   "execution_count": 31,
   "id": "034e1b30",
   "metadata": {},
   "outputs": [
    {
     "name": "stderr",
     "output_type": "stream",
     "text": [
      "/usr/local/lib/python3.7/site-packages/sklearn/neural_network/_multilayer_perceptron.py:549: ConvergenceWarning: lbfgs failed to converge (status=1):\n",
      "STOP: TOTAL NO. of ITERATIONS REACHED LIMIT.\n",
      "\n",
      "Increase the number of iterations (max_iter) or scale the data as shown in:\n",
      "    https://scikit-learn.org/stable/modules/preprocessing.html\n",
      "  self.n_iter_ = _check_optimize_result(\"lbfgs\", opt_res, self.max_iter)\n"
     ]
    },
    {
     "name": "stdout",
     "output_type": "stream",
     "text": [
      "0.4602417748857039\n"
     ]
    }
   ],
   "source": [
    "NN = MLPClassifier(solver='lbfgs', alpha=1e-5, random_state=1, max_iter=1000).fit(onehot_ingredient_id_train, calorie_level_train)\n",
    "NN_predictions = NN.predict(onehot_ingredient_id_test)\n",
    "round(NN.score(onehot_ingredient_id_test, calorie_level_test), 4)\n"
   ]
  },
  {
   "cell_type": "code",
   "execution_count": 33,
   "id": "cda14cc4",
   "metadata": {},
   "outputs": [
    {
     "name": "stdout",
     "output_type": "stream",
     "text": [
      "0.4480248426248102\n"
     ]
    }
   ],
   "source": [
    "print(precision_score(calorie_level_test, NN_predictions,average='macro'))\n"
   ]
  },
  {
   "cell_type": "code",
   "execution_count": 15,
   "id": "a7b44665",
   "metadata": {},
   "outputs": [],
   "source": [
    "clf = xgb.XGBClassifier()\n"
   ]
  },
  {
   "cell_type": "code",
   "execution_count": 19,
   "id": "a9742bb8",
   "metadata": {},
   "outputs": [
    {
     "data": {
      "text/plain": [
       "XGBClassifier(objective='multi:softprob')"
      ]
     },
     "execution_count": 19,
     "metadata": {},
     "output_type": "execute_result"
    }
   ],
   "source": [
    "clf.fit(onehot_ingredient_id_train, calorie_level_train)\n"
   ]
  },
  {
   "cell_type": "code",
   "execution_count": 22,
   "id": "ff4b765c",
   "metadata": {},
   "outputs": [],
   "source": [
    "predictions = clf.predict(onehot_ingredient_id_test)"
   ]
  },
  {
   "cell_type": "code",
   "execution_count": 32,
   "id": "c5fdac32",
   "metadata": {},
   "outputs": [
    {
     "name": "stdout",
     "output_type": "stream",
     "text": [
      "0.509772892303256\n"
     ]
    }
   ],
   "source": [
    "print(precision_score(calorie_level_test, predictions,average='macro'))"
   ]
  },
  {
   "cell_type": "code",
   "execution_count": 25,
   "id": "87b65cf9",
   "metadata": {},
   "outputs": [
    {
     "data": {
      "text/plain": [
       "array([1, 2, 0, 1, 0, 0, 1, 0, 0, 0, 1, 0, 1, 0, 0, 1, 0, 0, 0, 1, 0, 0,\n",
       "       1, 1, 1, 0, 0, 1, 0, 0, 0, 0, 1, 0, 0, 1, 0, 1, 2, 2, 2, 0, 1, 1,\n",
       "       0, 0, 0, 0, 1, 0, 1, 0, 1, 0, 1, 1, 2, 1, 1, 1, 0, 0, 0, 0, 0, 0,\n",
       "       0, 0, 0, 0, 0, 0, 0, 2, 0, 0, 0, 0, 0, 1, 0, 0, 1, 1, 1, 1, 1, 1,\n",
       "       0, 1, 0, 1, 0, 0, 0, 0, 0, 2, 1, 0])"
      ]
     },
     "execution_count": 25,
     "metadata": {},
     "output_type": "execute_result"
    }
   ],
   "source": [
    "predictions[100:200]"
   ]
  },
  {
   "cell_type": "markdown",
   "id": "6f8ef8ce",
   "metadata": {},
   "source": [
    "## Ingredient: 1000"
   ]
  },
  {
   "cell_type": "code",
   "execution_count": 41,
   "id": "676848f6",
   "metadata": {},
   "outputs": [],
   "source": [
    "ingredient_id_train = [eval(ingredient_ids) for ingredient_ids in p_recipes_train.ingredient_ids]\n",
    "ingredient_id_test = [eval(ingredient_ids) for ingredient_ids in p_recipes_test.ingredient_ids]"
   ]
  },
  {
   "cell_type": "code",
   "execution_count": 42,
   "id": "ca08211b",
   "metadata": {},
   "outputs": [],
   "source": [
    "ingredient_count = defaultdict(int)\n",
    "for ingredient_ids in p_recipes_train.ingredient_ids:\n",
    "    for ingredient in eval(ingredient_ids):\n",
    "        ingredient_count[ingredient] += 1\n",
    "ingredients_sorted = sorted(list(ingredient_count.items()), key= lambda x:x[1], reverse=True)[:1000]\n",
    "    \n",
    "def feat(ingredient_id):\n",
    "    feature = []\n",
    "    for ingredient, count in ingredients_sorted:\n",
    "        if ingredient in ingredient_id:\n",
    "            feature.append(1)\n",
    "        else:\n",
    "            feature.append(0)\n",
    "    return feature\n",
    "onehot_ingredient_id_train =  np.array([feat(ingredient_id) for ingredient_id in ingredient_id_train])\n",
    "onehot_ingredient_id_test =  np.array([feat(ingredient_id) for ingredient_id in ingredient_id_test])"
   ]
  },
  {
   "cell_type": "code",
   "execution_count": 43,
   "id": "a05ccaf4",
   "metadata": {},
   "outputs": [
    {
     "name": "stdout",
     "output_type": "stream",
     "text": [
      "0.5595758742462492\n",
      "0.5816747757209456\n"
     ]
    },
    {
     "name": "stderr",
     "output_type": "stream",
     "text": [
      "/usr/local/lib/python3.7/site-packages/sklearn/neural_network/_multilayer_perceptron.py:549: ConvergenceWarning: lbfgs failed to converge (status=1):\n",
      "STOP: TOTAL NO. of ITERATIONS REACHED LIMIT.\n",
      "\n",
      "Increase the number of iterations (max_iter) or scale the data as shown in:\n",
      "    https://scikit-learn.org/stable/modules/preprocessing.html\n",
      "  self.n_iter_ = _check_optimize_result(\"lbfgs\", opt_res, self.max_iter)\n"
     ]
    },
    {
     "name": "stdout",
     "output_type": "stream",
     "text": [
      "0.4529989612256479\n",
      "0.5246378647916056\n"
     ]
    }
   ],
   "source": [
    "LR = LogisticRegression(random_state=0, solver='lbfgs', multi_class='multinomial', max_iter=800).fit(onehot_ingredient_id_train, calorie_level_train)\n",
    "LR_predictions = LR.predict(onehot_ingredient_id_test)\n",
    "print(precision_score(calorie_level_test, RF_predictions,average='macro'))\n",
    "\n",
    "RF = RandomForestClassifier(n_estimators=1000, max_depth=10, random_state=0, max_iter=1000).fit(onehot_ingredient_id_train, calorie_level_train)\n",
    "RF_predictions = RF.predict(onehot_ingredient_id_test)\n",
    "print(precision_score(calorie_level_test, RF_predictions,average='macro'))\n",
    "\n",
    "clf = xgb.XGBClassifier()\n",
    "clf.fit(onehot_ingredient_id_train, calorie_level_train)\n",
    "predictions = clf.predict(onehot_ingredient_id_test)\n",
    "print(precision_score(calorie_level_test, predictions,average='macro'))"
   ]
  },
  {
   "cell_type": "code",
   "execution_count": 45,
   "id": "d58c73f5",
   "metadata": {},
   "outputs": [
    {
     "name": "stderr",
     "output_type": "stream",
     "text": [
      "/usr/local/lib/python3.7/site-packages/sklearn/neural_network/_multilayer_perceptron.py:549: ConvergenceWarning: lbfgs failed to converge (status=1):\n",
      "STOP: TOTAL NO. of ITERATIONS REACHED LIMIT.\n",
      "\n",
      "Increase the number of iterations (max_iter) or scale the data as shown in:\n",
      "    https://scikit-learn.org/stable/modules/preprocessing.html\n",
      "  self.n_iter_ = _check_optimize_result(\"lbfgs\", opt_res, self.max_iter)\n"
     ]
    },
    {
     "name": "stdout",
     "output_type": "stream",
     "text": [
      "0.4495948752612106\n"
     ]
    }
   ],
   "source": [
    "\n",
    "NN = MLPClassifier(solver='lbfgs', alpha=1e-5, random_state=1, max_iter=2000).fit(onehot_ingredient_id_train, calorie_level_train)\n",
    "NN_predictions = NN.predict(onehot_ingredient_id_test)\n",
    "print(precision_score(calorie_level_test, NN_predictions,average='macro'))\n"
   ]
  },
  {
   "cell_type": "markdown",
   "id": "78dfa2cb",
   "metadata": {},
   "source": [
    "## GradientBoostingClassifier¶"
   ]
  },
  {
   "cell_type": "code",
   "execution_count": 51,
   "id": "4cc1e95c",
   "metadata": {},
   "outputs": [],
   "source": [
    "from sklearn.ensemble import GradientBoostingClassifier\n",
    "from sklearn.base import TransformerMixin, BaseEstimator\n",
    "from sklearn.feature_extraction.text import CountVectorizer\n",
    "import matplotlib.pyplot as plt\n",
    "import matplotlib.pyplot as plt\n",
    "from sklearn.metrics import accuracy_score"
   ]
  },
  {
   "cell_type": "code",
   "execution_count": 52,
   "id": "1242b578",
   "metadata": {},
   "outputs": [],
   "source": [
    "class GBDT():\n",
    "    def __init__(self, args = {}, random_state=42, verbose=0):\n",
    "        self.random_state = random_state\n",
    "        self.args = args\n",
    "        self.verbose = verbose\n",
    "        self.models = []\n",
    "        self.func = GradientBoostingClassifier\n",
    "        \n",
    "        self.feature_importances = {}\n",
    "    def fit(self, X_train_, y_train_, cv=1, analyze=False):\n",
    "        self.models = []\n",
    "        classification_train(self,X_train_, y_train_, cv,func=self.func,analyze=analyze)\n",
    "            \n",
    "    def predict(self, X_test, verbose=0):\n",
    "        preds = np.zeros(len(X_test))\n",
    "        if verbose!=0: print(\"[\",end=\"\")\n",
    "        for model in self.models:\n",
    "            if verbose!=0:print(\"-\",end=\"\")\n",
    "            preds += model.predict(X_test)\n",
    "        if verbose!=0:print(\"]\")\n",
    "        preds /= len(self.models)\n",
    "        return [int(round(i)) for i in preds]\n",
    "    \n",
    "    def evaluate(self, X_test, y_test, return_score=True):\n",
    "        preds = self.predict(X_test)\n",
    "        acc = accuracy_score(y_test, preds)\n",
    "        print(\"Accuracy: {:5f}\".format(acc))\n",
    "        if return_score:\n",
    "            return acc\n",
    "        \n",
    "    def copy(self):\n",
    "        return self.func(random_state=self.random_state, verbose=self.verbose, **self.args)\n",
    "\n",
    "def classification_train(this, X_train_, y_train_, cv=1, func=None, analyze=False):\n",
    "    v = 1 if this.verbose == 2 else 0\n",
    "    if cv == 1:\n",
    "        this.models.append(func(random_state=this.random_state, verbose=v, **this.args))\n",
    "        this.models[0].fit(X_train_,y_train_)\n",
    "        preds_train = [round(i) for i in this.models[0].predict(X_train_)]\n",
    "        print(\"Train Accuracy: {:5f}\".format(accuracy_score(y_train_, preds_train)))\n",
    "        if analyze:\n",
    "            this.feature_importances = dict(zip(this.models[0].feature_importances_, X_train_.columns.values))\n",
    "            this.feature_importances = sorted(this.feature_importances.items(), key=operator.itemgetter(0),reverse=True)[:20]\n",
    "            plt.figure(figsize=(30,10))\n",
    "            plt.bar([x[1] for x in this.feature_importances],[x[0] for x in this.feature_importances],color=\"red\")\n",
    "            plt.title(\"Feature Importances\")\n",
    "            plt.show()\n",
    "    else:\n",
    "        importances = np.zeros(len(X_train.columns))\n",
    "        val_accuracies = []\n",
    "        train_accuracies = []\n",
    "        size = len(X_train)\n",
    "        train_size = 1 - 1 / cv\n",
    "        \n",
    "        for i in range(cv):\n",
    "            this.models.append(func(random_state=this.random_state, verbose=v, **this.args))\n",
    "            if this.verbose != 0: print(\"{}/{}\".format(i+1,cv))\n",
    "            X_fold, X_val, y_fold, y_val = train_test_split(X_train_, y_train_, train_size=train_size)\n",
    "            if this.verbose != 0: print(\"Training on {} instances, Validating on {} instances\".format(len(X_fold),len(X_val)))\n",
    "            this.models[i].fit(X_fold,y_fold)\n",
    "            val_preds = [round(i) for i in this.models[i].predict(X_val)]\n",
    "            val_accuracies.append(accuracy_score(y_val,val_preds))\n",
    "            importances += this.models[i].feature_importances_\n",
    "            if this.verbose != 0: print(\"Validation Accuracy: {:5f}\\n\".format(accuracy_score(y_val,val_preds)))\n",
    "            \n",
    "        if analyze:\n",
    "            this.feature_importances = dict(zip(importances, X_train.columns.values))\n",
    "            this.feature_importances = sorted(this.feature_importances.items(), key=operator.itemgetter(0),reverse=True)\n",
    "            print(\"Mean Validation Accuracy: {:5f}\".format(np.mean(val_accuracies)))\n",
    "            f,axs = plt.subplots(1, 2,figsize=(30,10))\n",
    "            axs = axs.flatten()\n",
    "            axs[0].bar([x[1] for x in this.feature_importances],[x[0] for x in this.feature_importances],color=\"red\")\n",
    "            axs[0].set_title(\"Feature Importances\")\n",
    "            plt.setp(axs[0].xaxis.get_majorticklabels(), rotation=90)\n",
    "            \n",
    "            axs[1].hist(val_preds)\n",
    "            axs[1].set_title(\"Prediction Distribution\")\n",
    "            plt.show()\n",
    "\n",
    "class GridSearch():\n",
    "    def __init__(self, model, params, verbose=0):\n",
    "        self.verbose = verbose\n",
    "        self.model = model\n",
    "        self.best_params = None\n",
    "        self.params = params\n",
    "        self.features = list(params.keys())\n",
    "        self.combinations = list(product(*list(params.values())))\n",
    "        \n",
    "    def fit(self, X, y, train_size=0.8, cv=1, stratify=True, custom=True):\n",
    "        print(\"Total Combinations: \" + str(len(self.combinations)))\n",
    "        if cv == 1:\n",
    "            accuracies = []\n",
    "            highest, count = 0, 0\n",
    "            if stratify: X_train, X_test, y_train, y_test = train_test_split(X,y,train_size=train_size,stratify=y,shuffle=True)\n",
    "            else: X_train, X_test, y_train, y_test = train_test_split(X,y,train_size=train_size,shuffle=True)\n",
    "            start = datetime.datetime.now()\n",
    "            for combination in self.combinations:\n",
    "                count += 1\n",
    "                model = self.model(args=dict(zip(self.features,combination)))\n",
    "                model.fit(X_train, y_train)\n",
    "                preds = model.predict(X_test)\n",
    "                acc = accuracy_score(y_test,preds)\n",
    "                accuracies.append(acc)\n",
    "                if acc > highest:\n",
    "                    self.best_params = dict(zip(self.features,combination))\n",
    "                    highest = acc\n",
    "                end = datetime.datetime.now()\n",
    "                duration = (end-start).total_seconds()\n",
    "                if self.verbose != 0: print(\"Train Time: {:5f}\\tTest Accuracy: {:5f}\\t\\tETA: {:5f}s\\t{}/{}\".format(duration,acc,duration/count*(len(self.combinations)-count),count,len(self.combinations)))\n",
    "        print(\"Search Complete\\nBest params: {}\\tHighest accuracy: {:5f}\".format(str(self.best_params),highest))"
   ]
  },
  {
   "cell_type": "code",
   "execution_count": 58,
   "id": "c9668808",
   "metadata": {},
   "outputs": [
    {
     "name": "stdout",
     "output_type": "stream",
     "text": [
      "      Iter       Train Loss   Remaining Time \n",
      "         1           1.0790           42.30m\n",
      "         2           1.0759           43.66m\n",
      "         3           1.0732           43.00m\n",
      "         4           1.0708           43.05m\n",
      "         5           1.0687           43.23m\n",
      "         6           1.0667           43.02m\n",
      "         7           1.0648           42.50m\n",
      "         8           1.0630           42.16m\n",
      "         9           1.0614           41.62m\n",
      "        10           1.0600           41.22m\n",
      "        20           1.0482           37.05m\n",
      "        30           1.0398           32.23m\n",
      "        40           1.0331           27.17m\n",
      "        50           1.0275           22.72m\n",
      "        60           1.0228           18.19m\n",
      "        70           1.0186           13.71m\n",
      "        80           1.0148            9.17m\n",
      "        90           1.0114            4.60m\n",
      "       100           1.0083            0.00s\n",
      "Train Accuracy: 0.506100\n"
     ]
    }
   ],
   "source": [
    "model = GBDT(verbose=2,args={'min_samples_leaf': 2})\n",
    "model.fit(onehot_ingredient_id_train, calorie_level_train, cv=1, analyze=False)"
   ]
  },
  {
   "cell_type": "code",
   "execution_count": 60,
   "id": "1e0f418d",
   "metadata": {},
   "outputs": [],
   "source": [
    "GBC_predictions = model.predict(onehot_ingredient_id_test)"
   ]
  },
  {
   "cell_type": "code",
   "execution_count": 62,
   "id": "d9b067f2",
   "metadata": {},
   "outputs": [
    {
     "name": "stdout",
     "output_type": "stream",
     "text": [
      "0.5218689221959796\n"
     ]
    }
   ],
   "source": [
    "print(precision_score(calorie_level_test, GBC_predictions,average='macro'))"
   ]
  },
  {
   "cell_type": "code",
   "execution_count": 63,
   "id": "9ff2dd22",
   "metadata": {},
   "outputs": [
    {
     "name": "stdout",
     "output_type": "stream",
     "text": [
      "Accuracy: 0.496536\n"
     ]
    },
    {
     "data": {
      "text/plain": [
       "0.49653605587187616"
      ]
     },
     "execution_count": 63,
     "metadata": {},
     "output_type": "execute_result"
    }
   ],
   "source": [
    "model.evaluate(onehot_ingredient_id_test, calorie_level_test)"
   ]
  },
  {
   "cell_type": "code",
   "execution_count": null,
   "id": "64dd932e",
   "metadata": {},
   "outputs": [],
   "source": []
  }
 ],
 "metadata": {
  "kernelspec": {
   "display_name": "Python 3 (ipykernel)",
   "language": "python",
   "name": "python3"
  },
  "language_info": {
   "codemirror_mode": {
    "name": "ipython",
    "version": 3
   },
   "file_extension": ".py",
   "mimetype": "text/x-python",
   "name": "python",
   "nbconvert_exporter": "python",
   "pygments_lexer": "ipython3",
   "version": "3.7.3"
  }
 },
 "nbformat": 4,
 "nbformat_minor": 5
}
