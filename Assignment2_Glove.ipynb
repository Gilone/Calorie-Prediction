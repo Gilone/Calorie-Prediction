{
 "cells": [
  {
   "cell_type": "code",
   "execution_count": 1,
   "id": "b7b10633",
   "metadata": {},
   "outputs": [],
   "source": [
    "from collections import defaultdict\n",
    "import csv\n",
    "from tqdm import tqdm\n"
   ]
  },
  {
   "cell_type": "markdown",
   "id": "6a2804f7",
   "metadata": {},
   "source": [
    "## Data Process"
   ]
  },
  {
   "cell_type": "code",
   "execution_count": 2,
   "id": "f69f80db",
   "metadata": {},
   "outputs": [],
   "source": [
    "def readCSV(path):\n",
    "    f = open(path, 'rt',encoding='UTF-8')\n",
    "    c = csv.reader(f)\n",
    "    header = next(c)\n",
    "    for l in c:\n",
    "        d = dict(zip(header,l))\n",
    "        yield d"
   ]
  },
  {
   "cell_type": "code",
   "execution_count": 3,
   "id": "4221e619",
   "metadata": {},
   "outputs": [],
   "source": [
    "def get_feature(path):\n",
    "    recipe_dict = {}\n",
    "    for d in tqdm(readCSV(path)):\n",
    "        recipe_dict[d['id']]= d\n",
    "    return recipe_dict"
   ]
  },
  {
   "cell_type": "code",
   "execution_count": 4,
   "id": "5f88c63d",
   "metadata": {},
   "outputs": [],
   "source": [
    "import pandas as pd\n",
    "import numpy as np\n",
    "\n",
    "r_recipes = pd.read_csv('data/RAW_recipes.csv')\n",
    "p_recipes = pd.read_csv('data/PP_recipes.csv')"
   ]
  },
  {
   "cell_type": "code",
   "execution_count": 5,
   "id": "85a2803a",
   "metadata": {},
   "outputs": [],
   "source": [
    "# Using Glove Embeddings"
   ]
  },
  {
   "cell_type": "code",
   "execution_count": 15,
   "id": "80ef75fc",
   "metadata": {},
   "outputs": [
    {
     "name": "stderr",
     "output_type": "stream",
     "text": [
      "231637it [00:07, 30723.03it/s]\n"
     ]
    }
   ],
   "source": [
    "from GetVectorFromGlove import GloveModel\n",
    "\n",
    "raw_recipe_dict = get_feature(\"data/RAW_recipes.csv\")\n",
    "raw_feature_list = []\n",
    "missing = 0\n",
    "for i in p_recipes.id:\n",
    "    raw_feature_list.append(raw_recipe_dict[str(i)])\n",
    "\n",
    "# train_size = int(0.8 * len(p_recipes))\n",
    "train_size = 20000\n",
    "\n",
    "train_raw_feature_list = raw_feature_list[:train_size]\n",
    "calorie_level_train = p_recipes.calorie_level[:train_size]\n",
    "\n",
    "# test_raw_feature_list = raw_feature_list[train_size:]\n",
    "# calorie_level_test = p_recipes.calorie_level[train_size:]\n",
    "\n",
    "test_raw_feature_list = raw_feature_list[train_size:22000]\n",
    "calorie_level_test = p_recipes.calorie_level[train_size:22000]"
   ]
  },
  {
   "cell_type": "code",
   "execution_count": 7,
   "id": "0fda732b",
   "metadata": {},
   "outputs": [],
   "source": [
    "GM = GloveModel('.\\glove.840B.300d.txt')\n",
    "\n",
    "def update_words_set(words_count, word_list):\n",
    "    for word in word_list:\n",
    "        words_count[word] += 1\n",
    " \n",
    "def get_average_vec_from_word_list_list(word_list_list, words_count):\n",
    "    words_list = []\n",
    "    for ingre in word_list_list:\n",
    "        words_list.extend(ingre.split(' '))\n",
    "    update_words_set(words_count, words_list)\n",
    "    average_word_vector = GM.get_average_vector_of_word_list(words_list)\n",
    "    return average_word_vector"
   ]
  },
  {
   "cell_type": "code",
   "execution_count": 8,
   "id": "3310e8cf",
   "metadata": {},
   "outputs": [],
   "source": [
    "# Ingredients with Glove"
   ]
  },
  {
   "cell_type": "code",
   "execution_count": 16,
   "id": "006ea845",
   "metadata": {},
   "outputs": [
    {
     "data": {
      "image/png": "[encoded data removed]",
      "text/plain": [
       "<Figure size 432x288 with 1 Axes>"
      ]
     },
     "metadata": {
      "needs_background": "light"
     },
     "output_type": "display_data"
    }
   ],
   "source": [
    "ingredients_words_count = defaultdict(int)\n",
    "\n",
    "ingredient_vec_train = []\n",
    "ingredient_vec_test = []\n",
    "for raw_feature in train_raw_feature_list:\n",
    "    ingredient_vec_train.append(get_average_vec_from_word_list_list(eval(raw_feature['ingredients']), ingredients_words_count))\n",
    "for raw_feature in test_raw_feature_list:\n",
    "    ingredient_vec_test.append(get_average_vec_from_word_list_list(eval(raw_feature['ingredients']), ingredients_words_count))\n",
    "\n",
    "topk_freq_words = []\n",
    "for k, v in ingredients_words_count.items():\n",
    "    topk_freq_words.append((k,v))\n",
    "topk_freq_words.sort(key=lambda x:x[1], reverse=True)\n",
    "topk_freq_words = [t[0] for t in topk_freq_words]\n",
    "GM.get_graph_of_a_word_list(list(topk_freq_words[:20]))"
   ]
  },
  {
   "cell_type": "code",
   "execution_count": 17,
   "id": "d08a4645",
   "metadata": {},
   "outputs": [
    {
     "name": "stdout",
     "output_type": "stream",
     "text": [
      "Model: \"sequential_2\"\n",
      "_________________________________________________________________\n",
      " Layer (type)                Output Shape              Param #   \n",
      "=================================================================\n",
      " embedding_2 (Embedding)     (None, 200, 300)          1036200   \n",
      "                                                                 \n",
      " bidirectional_2 (Bidirectio  (None, 600)              1442400   \n",
      " nal)                                                            \n",
      "                                                                 \n",
      " dense_4 (Dense)             (None, 300)               180300    \n",
      "                                                                 \n",
      " dense_5 (Dense)             (None, 3)                 903       \n",
      "                                                                 \n",
      "=================================================================\n",
      "Total params: 2,659,803\n",
      "Trainable params: 1,623,603\n",
      "Non-trainable params: 1,036,200\n",
      "_________________________________________________________________\n",
      "Epoch 1/10\n",
      "32/32 - 61s - loss: 1.0901 - accuracy: 0.4000 - val_loss: 1.0842 - val_accuracy: 0.3600 - 61s/epoch - 2s/step\n",
      "Epoch 2/10\n",
      "32/32 - 58s - loss: 1.0435 - accuracy: 0.4640 - val_loss: 1.1004 - val_accuracy: 0.3700 - 58s/epoch - 2s/step\n",
      "Epoch 3/10\n",
      "32/32 - 58s - loss: 1.0154 - accuracy: 0.4710 - val_loss: 1.1141 - val_accuracy: 0.3850 - 58s/epoch - 2s/step\n",
      "Epoch 4/10\n",
      "32/32 - 58s - loss: 0.9738 - accuracy: 0.5180 - val_loss: 1.0731 - val_accuracy: 0.3750 - 58s/epoch - 2s/step\n",
      "Epoch 5/10\n",
      "32/32 - 57s - loss: 0.9212 - accuracy: 0.5850 - val_loss: 1.1381 - val_accuracy: 0.3950 - 57s/epoch - 2s/step\n",
      "Epoch 6/10\n",
      "32/32 - 59s - loss: 0.8628 - accuracy: 0.6110 - val_loss: 1.5329 - val_accuracy: 0.3900 - 59s/epoch - 2s/step\n",
      "Epoch 7/10\n",
      "32/32 - 62s - loss: 0.7954 - accuracy: 0.6510 - val_loss: 1.2497 - val_accuracy: 0.4050 - 62s/epoch - 2s/step\n",
      "Epoch 8/10\n",
      "32/32 - 58s - loss: 0.6999 - accuracy: 0.6740 - val_loss: 1.4187 - val_accuracy: 0.3350 - 58s/epoch - 2s/step\n",
      "Epoch 9/10\n",
      "32/32 - 57s - loss: 0.6422 - accuracy: 0.7400 - val_loss: 1.4652 - val_accuracy: 0.3700 - 57s/epoch - 2s/step\n",
      "Epoch 10/10\n",
      "32/32 - 57s - loss: 0.5138 - accuracy: 0.7840 - val_loss: 1.5309 - val_accuracy: 0.3600 - 57s/epoch - 2s/step\n"
     ]
    },
    {
     "ename": "TypeError",
     "evalue": "_plot_training_graphs() takes 2 positional arguments but 3 were given",
     "output_type": "error",
     "traceback": [
      "\u001b[1;31m---------------------------------------------------------------------------\u001b[0m",
      "\u001b[1;31mTypeError\u001b[0m                                 Traceback (most recent call last)",
      "\u001b[1;32m~\\AppData\\Local\\Temp/ipykernel_14968/1936999109.py\u001b[0m in \u001b[0;36m<module>\u001b[1;34m\u001b[0m\n\u001b[0;32m     10\u001b[0m \u001b[1;33m\u001b[0m\u001b[0m\n\u001b[0;32m     11\u001b[0m \u001b[0mSC\u001b[0m \u001b[1;33m=\u001b[0m \u001b[0mStepsClassifier\u001b[0m\u001b[1;33m(\u001b[0m\u001b[0msteps_articel_train\u001b[0m\u001b[1;33m,\u001b[0m \u001b[0mcalorie_level_train\u001b[0m\u001b[1;33m,\u001b[0m \u001b[0msteps_articel_test\u001b[0m\u001b[1;33m,\u001b[0m \u001b[0mcalorie_level_test\u001b[0m\u001b[1;33m)\u001b[0m\u001b[1;33m\u001b[0m\u001b[1;33m\u001b[0m\u001b[0m\n\u001b[1;32m---> 12\u001b[1;33m \u001b[0mSC\u001b[0m\u001b[1;33m.\u001b[0m\u001b[0mtrain\u001b[0m\u001b[1;33m(\u001b[0m\u001b[1;33m)\u001b[0m\u001b[1;33m\u001b[0m\u001b[1;33m\u001b[0m\u001b[0m\n\u001b[0m\u001b[0;32m     13\u001b[0m \u001b[0mSC\u001b[0m\u001b[1;33m.\u001b[0m\u001b[0mprediction\u001b[0m\u001b[1;33m(\u001b[0m\u001b[0msteps_articel_train\u001b[0m\u001b[1;33m[\u001b[0m\u001b[1;36m0\u001b[0m\u001b[1;33m]\u001b[0m\u001b[1;33m)\u001b[0m\u001b[1;33m\u001b[0m\u001b[1;33m\u001b[0m\u001b[0m\n",
      "\u001b[1;32mg:\\desktop\\UCSD-Course\\CSE-258\\Assignment2\\Calorie-Prediction\\LSTMClassifier.py\u001b[0m in \u001b[0;36mtrain\u001b[1;34m(self, num_epochs)\u001b[0m\n\u001b[0;32m     57\u001b[0m         \u001b[0mvalid_padded\u001b[0m \u001b[1;33m=\u001b[0m \u001b[0mself\u001b[0m\u001b[1;33m.\u001b[0m\u001b[0mpaddle_all_seq\u001b[0m\u001b[1;33m(\u001b[0m\u001b[0mself\u001b[0m\u001b[1;33m.\u001b[0m\u001b[0mvalidation_seq\u001b[0m\u001b[1;33m)\u001b[0m\u001b[1;33m\u001b[0m\u001b[1;33m\u001b[0m\u001b[0m\n\u001b[0;32m     58\u001b[0m         \u001b[0mhistory\u001b[0m \u001b[1;33m=\u001b[0m \u001b[0mself\u001b[0m\u001b[1;33m.\u001b[0m\u001b[0mmodel\u001b[0m\u001b[1;33m.\u001b[0m\u001b[0mfit\u001b[0m\u001b[1;33m(\u001b[0m\u001b[0mtrain_padded\u001b[0m\u001b[1;33m,\u001b[0m \u001b[0mself\u001b[0m\u001b[1;33m.\u001b[0m\u001b[0mtraining_label_seq\u001b[0m\u001b[1;33m,\u001b[0m \u001b[0mepochs\u001b[0m\u001b[1;33m=\u001b[0m\u001b[0mnum_epochs\u001b[0m\u001b[1;33m,\u001b[0m \u001b[0mvalidation_data\u001b[0m\u001b[1;33m=\u001b[0m\u001b[1;33m(\u001b[0m\u001b[0mvalid_padded\u001b[0m\u001b[1;33m,\u001b[0m \u001b[0mself\u001b[0m\u001b[1;33m.\u001b[0m\u001b[0mvalidation_label_seq\u001b[0m\u001b[1;33m)\u001b[0m\u001b[1;33m,\u001b[0m \u001b[0mverbose\u001b[0m\u001b[1;33m=\u001b[0m\u001b[1;36m2\u001b[0m\u001b[1;33m)\u001b[0m\u001b[1;33m\u001b[0m\u001b[1;33m\u001b[0m\u001b[0m\n\u001b[1;32m---> 59\u001b[1;33m         \u001b[0mself\u001b[0m\u001b[1;33m.\u001b[0m\u001b[0m_plot_training_graphs\u001b[0m\u001b[1;33m(\u001b[0m\u001b[0mhistory\u001b[0m\u001b[1;33m,\u001b[0m \u001b[1;34m\"accuracy\"\u001b[0m\u001b[1;33m)\u001b[0m\u001b[1;33m\u001b[0m\u001b[1;33m\u001b[0m\u001b[0m\n\u001b[0m\u001b[0;32m     60\u001b[0m         \u001b[0mself\u001b[0m\u001b[1;33m.\u001b[0m\u001b[0m_plot_training_graphs\u001b[0m\u001b[1;33m(\u001b[0m\u001b[0mhistory\u001b[0m\u001b[1;33m,\u001b[0m \u001b[1;34m\"loss\"\u001b[0m\u001b[1;33m)\u001b[0m\u001b[1;33m\u001b[0m\u001b[1;33m\u001b[0m\u001b[0m\n\u001b[0;32m     61\u001b[0m \u001b[1;33m\u001b[0m\u001b[0m\n",
      "\u001b[1;31mTypeError\u001b[0m: _plot_training_graphs() takes 2 positional arguments but 3 were given"
     ]
    }
   ],
   "source": [
    "# Steps with Glove and LSTM\n",
    "from LSTMClassifier import StepsClassifier\n",
    "\n",
    "steps_articel_train = []\n",
    "steps_articel_test = []\n",
    "for raw_feature in train_raw_feature_list:\n",
    "    steps_articel_train.append(' '.join(eval(raw_feature['steps'])))\n",
    "for raw_feature in test_raw_feature_list:\n",
    "    steps_articel_test.append(' '.join(eval(raw_feature['steps'])))\n",
    "\n",
    "SC = StepsClassifier(steps_articel_train, calorie_level_train, steps_articel_test, calorie_level_test)\n",
    "SC.train()\n",
    "SC.prediction(steps_articel_train[0])"
   ]
  }
 ],
 "metadata": {
  "kernelspec": {
   "display_name": "Python 3 (ipykernel)",
   "language": "python",
   "name": "python3"
  },
  "language_info": {
   "codemirror_mode": {
    "name": "ipython",
    "version": 3
   },
   "file_extension": ".py",
   "mimetype": "text/x-python",
   "name": "python",
   "nbconvert_exporter": "python",
   "pygments_lexer": "ipython3",
   "version": "3.9.5"
  }
 },
 "nbformat": 4,
 "nbformat_minor": 5
}
