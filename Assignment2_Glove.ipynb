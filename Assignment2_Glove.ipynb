{
 "cells": [
  {
   "cell_type": "code",
   "execution_count": 1,
   "id": "b7b10633",
   "metadata": {},
   "outputs": [],
   "source": [
    "from collections import defaultdict\n",
    "import csv\n",
    "from tqdm import tqdm\n"
   ]
  },
  {
   "cell_type": "markdown",
   "id": "6a2804f7",
   "metadata": {},
   "source": [
    "## Data Process"
   ]
  },
  {
   "cell_type": "code",
   "execution_count": 2,
   "id": "f69f80db",
   "metadata": {},
   "outputs": [],
   "source": [
    "def readCSV(path):\n",
    "    f = open(path, 'rt',encoding='UTF-8')\n",
    "    c = csv.reader(f)\n",
    "    header = next(c)\n",
    "    for l in c:\n",
    "        d = dict(zip(header,l))\n",
    "        yield d"
   ]
  },
  {
   "cell_type": "code",
   "execution_count": 3,
   "id": "4221e619",
   "metadata": {},
   "outputs": [],
   "source": [
    "def get_feature(path):\n",
    "    recipe_dict = {}\n",
    "    for d in tqdm(readCSV(path)):\n",
    "        recipe_dict[d['id']]= d\n",
    "    return recipe_dict"
   ]
  },
  {
   "cell_type": "code",
   "execution_count": 4,
   "id": "5f88c63d",
   "metadata": {},
   "outputs": [],
   "source": [
    "import pandas as pd\n",
    "import numpy as np\n",
    "\n",
    "r_recipes = pd.read_csv('data/RAW_recipes.csv')\n",
    "p_recipes = pd.read_csv('data/PP_recipes.csv')"
   ]
  },
  {
   "cell_type": "code",
   "execution_count": 5,
   "id": "85a2803a",
   "metadata": {},
   "outputs": [],
   "source": [
    "# Using Glove Embeddings"
   ]
  },
  {
   "cell_type": "code",
   "execution_count": 6,
   "id": "80ef75fc",
   "metadata": {},
   "outputs": [
    {
     "name": "stderr",
     "output_type": "stream",
     "text": [
      "231637it [00:06, 37576.92it/s]\n"
     ]
    }
   ],
   "source": [
    "from GetVectorFromGlove import GloveModel\n",
    "\n",
    "raw_recipe_dict = get_feature(\"data/RAW_recipes.csv\")\n",
    "raw_feature_list = []\n",
    "missing = 0\n",
    "for i in p_recipes.id:\n",
    "    raw_feature_list.append(raw_recipe_dict[str(i)])\n",
    "\n",
    "# train_size = int(0.8 * len(p_recipes))\n",
    "train_size = 1000\n",
    "\n",
    "train_raw_feature_list = raw_feature_list[:train_size]\n",
    "calorie_level_train = p_recipes.calorie_level[:train_size]\n",
    "# test_raw_feature_list = raw_feature_list[train_size:]\n",
    "# calorie_level_test = p_recipes.calorie_level[train_size:]\n",
    "\n",
    "test_raw_feature_list = raw_feature_list[train_size:1200]\n",
    "calorie_level_test = p_recipes.calorie_level[train_size:1200]"
   ]
  },
  {
   "cell_type": "code",
   "execution_count": 7,
   "id": "0fda732b",
   "metadata": {},
   "outputs": [],
   "source": [
    "GM = GloveModel('.\\glove.840B.300d.txt')\n",
    "\n",
    "def update_words_set(words_count, word_list):\n",
    "    for word in word_list:\n",
    "        words_count[word] += 1\n",
    " \n",
    "def get_average_vec_from_word_list_list(word_list_list, words_count):\n",
    "    words_list = []\n",
    "    \n",
    "    for ingre in word_list_list:\n",
    "        words_list.extend(ingre.split(' '))\n",
    "    update_words_set(words_count, words_list)\n",
    "    average_word_vector = GM.get_average_vector_of_word_list(words_list)\n",
    "    return average_word_vector"
   ]
  },
  {
   "cell_type": "code",
   "execution_count": 8,
   "id": "3310e8cf",
   "metadata": {},
   "outputs": [],
   "source": [
    "# Ingredients with Glove"
   ]
  },
  {
   "cell_type": "code",
   "execution_count": 9,
   "id": "006ea845",
   "metadata": {},
   "outputs": [
    {
     "data": {
      "image/png": "[encoded data removed]",
      "text/plain": [
       "<Figure size 432x288 with 1 Axes>"
      ]
     },
     "metadata": {
      "needs_background": "light"
     },
     "output_type": "display_data"
    }
   ],
   "source": [
    "ingredients_words_count = defaultdict(int)\n",
    "\n",
    "ingredient_vec_train = []\n",
    "ingredient_vec_test = []\n",
    "for raw_feature in train_raw_feature_list:\n",
    "    ingredient_vec_train.append(get_average_vec_from_word_list_list(eval(raw_feature['ingredients']), ingredients_words_count))\n",
    "for raw_feature in test_raw_feature_list:\n",
    "    ingredient_vec_test.append(get_average_vec_from_word_list_list(eval(raw_feature['ingredients']), ingredients_words_count))\n",
    "\n",
    "topk_freq_words = []\n",
    "for k, v in ingredients_words_count.items():\n",
    "    topk_freq_words.append((k,v))\n",
    "topk_freq_words.sort(key=lambda x:x[1], reverse=True)\n",
    "topk_freq_words = [t[0] for t in topk_freq_words]\n",
    "GM.get_graph_of_a_word_list(list(topk_freq_words[:20]))"
   ]
  },
  {
   "cell_type": "code",
   "execution_count": 10,
   "id": "d08a4645",
   "metadata": {},
   "outputs": [
    {
     "name": "stdout",
     "output_type": "stream",
     "text": [
      "Model: \"sequential\"\n",
      "_________________________________________________________________\n",
      " Layer (type)                Output Shape              Param #   \n",
      "=================================================================\n",
      " embedding (Embedding)       (None, 200, 300)          382200    \n",
      "                                                                 \n",
      " bidirectional (Bidirectiona  (None, 600)              1442400   \n",
      " l)                                                              \n",
      "                                                                 \n",
      " dense (Dense)               (None, 300)               180300    \n",
      "                                                                 \n",
      " dense_1 (Dense)             (None, 3)                 903       \n",
      "                                                                 \n",
      "=================================================================\n",
      "Total params: 2,005,803\n",
      "Trainable params: 1,623,603\n",
      "Non-trainable params: 382,200\n",
      "_________________________________________________________________\n",
      "Epoch 1/10\n",
      "4/4 - 14s - loss: 1.1367 - accuracy: 0.4500 - _f1_m: 1.8111 - val_loss: 1.1243 - val_accuracy: 0.2500 - val__f1_m: 2.1429 - 14s/epoch - 3s/step\n",
      "Epoch 2/10\n",
      "4/4 - 6s - loss: 1.0124 - accuracy: 0.6500 - _f1_m: 2.2655 - val_loss: 1.1004 - val_accuracy: 0.3000 - val__f1_m: 2.5714 - 6s/epoch - 2s/step\n",
      "Epoch 3/10\n",
      "4/4 - 7s - loss: 0.9622 - accuracy: 0.5600 - _f1_m: 1.6277 - val_loss: 1.2261 - val_accuracy: 0.3500 - val__f1_m: 1.0000 - 7s/epoch - 2s/step\n",
      "Epoch 4/10\n",
      "4/4 - 8s - loss: 0.9149 - accuracy: 0.5200 - _f1_m: 1.2179 - val_loss: 1.1239 - val_accuracy: 0.3000 - val__f1_m: 2.1333 - 8s/epoch - 2s/step\n",
      "Epoch 5/10\n",
      "4/4 - 7s - loss: 0.8386 - accuracy: 0.7300 - _f1_m: 1.7703 - val_loss: 1.1985 - val_accuracy: 0.2500 - val__f1_m: 1.6000 - 7s/epoch - 2s/step\n",
      "Epoch 6/10\n",
      "4/4 - 6s - loss: 0.7270 - accuracy: 0.7200 - _f1_m: 1.1497 - val_loss: 1.5174 - val_accuracy: 0.3000 - val__f1_m: 0.9333 - 6s/epoch - 2s/step\n",
      "Epoch 7/10\n",
      "4/4 - 6s - loss: 0.6896 - accuracy: 0.7200 - _f1_m: 1.0892 - val_loss: 1.4406 - val_accuracy: 0.3500 - val__f1_m: 1.2414 - 6s/epoch - 2s/step\n",
      "Epoch 8/10\n",
      "4/4 - 6s - loss: 0.7703 - accuracy: 0.6000 - _f1_m: 0.8238 - val_loss: 1.4221 - val_accuracy: 0.1500 - val__f1_m: 1.1333 - 6s/epoch - 2s/step\n",
      "Epoch 9/10\n",
      "4/4 - 6s - loss: 0.6377 - accuracy: 0.7200 - _f1_m: 0.8946 - val_loss: 1.5285 - val_accuracy: 0.4500 - val__f1_m: 0.8571 - 6s/epoch - 2s/step\n",
      "Epoch 10/10\n",
      "4/4 - 6s - loss: 0.5343 - accuracy: 0.8000 - _f1_m: 0.9126 - val_loss: 1.2930 - val_accuracy: 0.4000 - val__f1_m: 1.0345 - 6s/epoch - 1s/step\n"
     ]
    },
    {
     "data": {
      "image/png": "[encoded data removed]",
      "text/plain": [
       "<Figure size 432x288 with 1 Axes>"
      ]
     },
     "metadata": {
      "needs_background": "light"
     },
     "output_type": "display_data"
    },
    {
     "data": {
      "image/png": "[encoded data removed]",
      "text/plain": [
       "<Figure size 432x288 with 1 Axes>"
      ]
     },
     "metadata": {
      "needs_background": "light"
     },
     "output_type": "display_data"
    }
   ],
   "source": [
    "# Steps with Glove and LSTM\n",
    "from LSTMClassifier import StepsClassifier\n",
    "\n",
    "steps_articel_train = []\n",
    "steps_articel_test = []\n",
    "for raw_feature in train_raw_feature_list:\n",
    "    steps_articel_train.append(' '.join(eval(raw_feature['steps'])))\n",
    "for raw_feature in test_raw_feature_list:\n",
    "    steps_articel_test.append(' '.join(eval(raw_feature['steps'])))\n",
    "\n",
    "SC = StepsClassifier(steps_articel_train, calorie_level_train, steps_articel_test, calorie_level_test)\n",
    "SC.train(num_epochs=10)"
   ]
  },
  {
   "cell_type": "code",
   "execution_count": 28,
   "id": "54ed9da0",
   "metadata": {},
   "outputs": [
    {
     "name": "stdout",
     "output_type": "stream",
     "text": [
      "1/1 [==============================] - 0s 203ms/step - loss: 1.2930 - accuracy: 0.4000 - _f1_m: 1.0345\n",
      "[Evaluation] Accuracy:  0.4000000059604645  F1:  1.0344825983047485\n",
      "414\n"
     ]
    },
    {
     "name": "stderr",
     "output_type": "stream",
     "text": [
      "100%|██████████| 20/20 [00:02<00:00,  8.13it/s]"
     ]
    },
    {
     "name": "stdout",
     "output_type": "stream",
     "text": [
      "8 20\n"
     ]
    },
    {
     "name": "stderr",
     "output_type": "stream",
     "text": [
      "\n"
     ]
    }
   ],
   "source": [
    "from tqdm import tqdm\n",
    "\n",
    "accuracy, f1 = SC.evaluate_model()\n",
    "print('[Evaluation] Accuracy: ', accuracy, ' F1: ', f1)\n",
    "print(SC.prediction(steps_articel_train[1]))\n",
    "labels = ['0', '1', '2']\n",
    "res_list = []\n",
    "for s in tqdm(steps_articel_test):\n",
    "    pred = SC._predict_single(s)\n",
    "    res_list.append(labels[np.argmax(pred)])\n",
    "acc = 0\n",
    "for i in range(len(calorie_level_test)):\n",
    "    if int(list(calorie_level_test)[i]) == int(res_list[i]):\n",
    "        acc += 1\n",
    "print(acc, len(calorie_level_test))\n",
    "# print(calorie_level_test)\n",
    "# print(res_list)\n"
   ]
  }
 ],
 "metadata": {
  "kernelspec": {
   "display_name": "Python 3 (ipykernel)",
   "language": "python",
   "name": "python3"
  },
  "language_info": {
   "codemirror_mode": {
    "name": "ipython",
    "version": 3
   },
   "file_extension": ".py",
   "mimetype": "text/x-python",
   "name": "python",
   "nbconvert_exporter": "python",
   "pygments_lexer": "ipython3",
   "version": "3.9.5"
  }
 },
 "nbformat": 4,
 "nbformat_minor": 5
}
