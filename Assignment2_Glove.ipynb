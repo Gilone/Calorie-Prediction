{
 "cells": [
  {
   "cell_type": "code",
   "execution_count": 1,
   "id": "b7b10633",
   "metadata": {},
   "outputs": [],
   "source": [
    "from collections import defaultdict\n",
    "import csv\n",
    "from tqdm import tqdm\n"
   ]
  },
  {
   "cell_type": "markdown",
   "id": "6a2804f7",
   "metadata": {},
   "source": [
    "## Data Process"
   ]
  },
  {
   "cell_type": "code",
   "execution_count": 2,
   "id": "f69f80db",
   "metadata": {},
   "outputs": [],
   "source": [
    "def readCSV(path):\n",
    "    f = open(path, 'rt',encoding='UTF-8')\n",
    "    c = csv.reader(f)\n",
    "    header = next(c)\n",
    "    for l in c:\n",
    "        d = dict(zip(header,l))\n",
    "        yield d"
   ]
  },
  {
   "cell_type": "code",
   "execution_count": 3,
   "id": "4221e619",
   "metadata": {},
   "outputs": [],
   "source": [
    "def get_feature(path):\n",
    "    recipe_dict = {}\n",
    "    for d in tqdm(readCSV(path)):\n",
    "        recipe_dict[d['id']]= d\n",
    "    return recipe_dict"
   ]
  },
  {
   "cell_type": "code",
   "execution_count": 4,
   "id": "5f88c63d",
   "metadata": {},
   "outputs": [],
   "source": [
    "import pandas as pd\n",
    "import numpy as np\n",
    "\n",
    "r_recipes = pd.read_csv('data/RAW_recipes.csv')\n",
    "p_recipes = pd.read_csv('data/PP_recipes.csv')"
   ]
  },
  {
   "cell_type": "code",
   "execution_count": 5,
   "id": "85a2803a",
   "metadata": {},
   "outputs": [],
   "source": [
    "# Using Glove Embeddings"
   ]
  },
  {
   "cell_type": "code",
   "execution_count": 14,
   "id": "80ef75fc",
   "metadata": {},
   "outputs": [
    {
     "name": "stderr",
     "output_type": "stream",
     "text": [
      "231637it [00:07, 32053.88it/s]\n"
     ]
    }
   ],
   "source": [
    "from GetVectorFromGlove import GloveModel\n",
    "\n",
    "raw_recipe_dict = get_feature(\"data/RAW_recipes.csv\")\n",
    "raw_feature_list = []\n",
    "missing = 0\n",
    "for i in p_recipes.id:\n",
    "    raw_feature_list.append(raw_recipe_dict[str(i)])\n",
    "\n",
    "# train_size = int(0.8 * len(p_recipes))\n",
    "train_size = 100\n",
    "\n",
    "train_raw_feature_list = raw_feature_list[:train_size]\n",
    "calorie_level_train = np.array(p_recipes.calorie_level[:train_size])\n",
    "# test_raw_feature_list = raw_feature_list[train_size:]\n",
    "# calorie_level_test = p_recipes.calorie_level[train_size:]\n",
    "\n",
    "test_raw_feature_list = raw_feature_list[train_size:120]\n",
    "calorie_level_test = np.array(p_recipes.calorie_level[train_size:120])"
   ]
  },
  {
   "cell_type": "code",
   "execution_count": 16,
   "id": "0fda732b",
   "metadata": {},
   "outputs": [],
   "source": [
    "GM = GloveModel('.\\glove.840B.300d.txt')\n",
    "\n",
    "def update_words_set(words_count, word_list):\n",
    "    for word in word_list:\n",
    "        words_count[word] += 1\n",
    " \n",
    "def get_average_vec_from_word_list_list(word_list_list, words_count):\n",
    "    words_list = []\n",
    "    \n",
    "    for ingre in word_list_list:\n",
    "        words_list.extend(ingre.split(' '))\n",
    "    update_words_set(words_count, words_list)\n",
    "    average_word_vector = GM.get_average_vector_of_word_list(words_list)\n",
    "    return average_word_vector"
   ]
  },
  {
   "cell_type": "code",
   "execution_count": 8,
   "id": "3310e8cf",
   "metadata": {},
   "outputs": [],
   "source": [
    "# Ingredients with Glove"
   ]
  },
  {
   "cell_type": "code",
   "execution_count": 17,
   "id": "006ea845",
   "metadata": {},
   "outputs": [
    {
     "data": {
      "image/png": "[encoded data removed]",
      "text/plain": [
       "<Figure size 432x288 with 1 Axes>"
      ]
     },
     "metadata": {
      "needs_background": "light"
     },
     "output_type": "display_data"
    }
   ],
   "source": [
    "ingredients_words_count = defaultdict(int)\n",
    "\n",
    "ingredient_vec_train = []\n",
    "ingredient_vec_test = []\n",
    "for raw_feature in train_raw_feature_list:\n",
    "    ingredient_vec_train.append(get_average_vec_from_word_list_list(eval(raw_feature['ingredients']), ingredients_words_count))\n",
    "for raw_feature in test_raw_feature_list:\n",
    "    ingredient_vec_test.append(get_average_vec_from_word_list_list(eval(raw_feature['ingredients']), ingredients_words_count))\n",
    "\n",
    "topk_freq_words = []\n",
    "for k, v in ingredients_words_count.items():\n",
    "    topk_freq_words.append((k,v))\n",
    "topk_freq_words.sort(key=lambda x:x[1], reverse=True)\n",
    "topk_freq_words = [t[0] for t in topk_freq_words]\n",
    "GM.get_graph_of_a_word_list(list(topk_freq_words[:20]))"
   ]
  },
  {
   "cell_type": "code",
   "execution_count": 18,
   "id": "d08a4645",
   "metadata": {},
   "outputs": [
    {
     "ename": "TypeError",
     "evalue": "__init__() got an unexpected keyword argument 'glove_model'",
     "output_type": "error",
     "traceback": [
      "\u001b[1;31m---------------------------------------------------------------------------\u001b[0m",
      "\u001b[1;31mTypeError\u001b[0m                                 Traceback (most recent call last)",
      "\u001b[1;32m~\\AppData\\Local\\Temp/ipykernel_17744/3863107975.py\u001b[0m in \u001b[0;36m<module>\u001b[1;34m\u001b[0m\n\u001b[0;32m      9\u001b[0m     \u001b[0msteps_articel_test\u001b[0m\u001b[1;33m.\u001b[0m\u001b[0mappend\u001b[0m\u001b[1;33m(\u001b[0m\u001b[1;34m' '\u001b[0m\u001b[1;33m.\u001b[0m\u001b[0mjoin\u001b[0m\u001b[1;33m(\u001b[0m\u001b[0meval\u001b[0m\u001b[1;33m(\u001b[0m\u001b[0mraw_feature\u001b[0m\u001b[1;33m[\u001b[0m\u001b[1;34m'steps'\u001b[0m\u001b[1;33m]\u001b[0m\u001b[1;33m)\u001b[0m\u001b[1;33m)\u001b[0m\u001b[1;33m)\u001b[0m\u001b[1;33m\u001b[0m\u001b[1;33m\u001b[0m\u001b[0m\n\u001b[0;32m     10\u001b[0m \u001b[1;33m\u001b[0m\u001b[0m\n\u001b[1;32m---> 11\u001b[1;33m \u001b[0mSC\u001b[0m \u001b[1;33m=\u001b[0m \u001b[0mStepsClassifier\u001b[0m\u001b[1;33m(\u001b[0m\u001b[0msteps_articel_train\u001b[0m\u001b[1;33m,\u001b[0m \u001b[0mcalorie_level_train\u001b[0m\u001b[1;33m,\u001b[0m \u001b[0msteps_articel_test\u001b[0m\u001b[1;33m,\u001b[0m \u001b[0mcalorie_level_test\u001b[0m\u001b[1;33m,\u001b[0m \u001b[0mglove_model\u001b[0m\u001b[1;33m=\u001b[0m\u001b[0mGM\u001b[0m\u001b[1;33m)\u001b[0m\u001b[1;33m\u001b[0m\u001b[1;33m\u001b[0m\u001b[0m\n\u001b[0m\u001b[0;32m     12\u001b[0m \u001b[0mSC\u001b[0m\u001b[1;33m.\u001b[0m\u001b[0mtrain\u001b[0m\u001b[1;33m(\u001b[0m\u001b[0mnum_epochs\u001b[0m\u001b[1;33m=\u001b[0m\u001b[1;36m10\u001b[0m\u001b[1;33m)\u001b[0m\u001b[1;33m\u001b[0m\u001b[1;33m\u001b[0m\u001b[0m\n",
      "\u001b[1;31mTypeError\u001b[0m: __init__() got an unexpected keyword argument 'glove_model'"
     ]
    }
   ],
   "source": [
    "# Steps with Glove and LSTM\n",
    "from LSTMClassifier import StepsClassifier\n",
    "\n",
    "steps_articel_train = []\n",
    "steps_articel_test = []\n",
    "for raw_feature in train_raw_feature_list:\n",
    "    steps_articel_train.append(' '.join(eval(raw_feature['steps'])))\n",
    "for raw_feature in test_raw_feature_list:\n",
    "    steps_articel_test.append(' '.join(eval(raw_feature['steps'])))\n",
    "\n",
    "SC = StepsClassifier(steps_articel_train, calorie_level_train, steps_articel_test, calorie_level_test, glove_model=GM)\n",
    "SC.train(num_epochs=10)"
   ]
  },
  {
   "cell_type": "code",
   "execution_count": null,
   "id": "54ed9da0",
   "metadata": {},
   "outputs": [
    {
     "name": "stdout",
     "output_type": "stream",
     "text": [
      "1/1 [==============================] - 0s 203ms/step - loss: 1.2930 - accuracy: 0.4000 - _f1_m: 1.0345\n",
      "[Evaluation] Accuracy:  0.4000000059604645  F1:  1.0344825983047485\n",
      "414\n"
     ]
    },
    {
     "name": "stderr",
     "output_type": "stream",
     "text": [
      "100%|██████████| 20/20 [00:02<00:00,  8.13it/s]"
     ]
    },
    {
     "name": "stdout",
     "output_type": "stream",
     "text": [
      "8 20\n"
     ]
    },
    {
     "name": "stderr",
     "output_type": "stream",
     "text": [
      "\n"
     ]
    }
   ],
   "source": [
    "from tqdm import tqdm\n",
    "\n",
    "accuracy, f1 = SC.evaluate_model()\n",
    "print('[Evaluation] Accuracy: ', accuracy, ' F1: ', f1)\n",
    "print(SC.prediction_single(steps_articel_train[1]))\n",
    "res_list = []\n",
    "for s in tqdm(steps_articel_test):\n",
    "    res_list.append(SC.prediction_single(s))\n",
    "acc = 0\n",
    "for i in range(len(calorie_level_test)):\n",
    "    if int(calorie_level_test[i]) == int(res_list[i]):\n",
    "        acc += 1\n",
    "print(acc, len(calorie_level_test))\n",
    "# print(calorie_level_test)\n",
    "# print(res_list)\n"
   ]
  }
 ],
 "metadata": {
  "kernelspec": {
   "display_name": "Python 3 (ipykernel)",
   "language": "python",
   "name": "python3"
  },
  "language_info": {
   "codemirror_mode": {
    "name": "ipython",
    "version": 3
   },
   "file_extension": ".py",
   "mimetype": "text/x-python",
   "name": "python",
   "nbconvert_exporter": "python",
   "pygments_lexer": "ipython3",
   "version": "3.9.5"
  }
 },
 "nbformat": 4,
 "nbformat_minor": 5
}
